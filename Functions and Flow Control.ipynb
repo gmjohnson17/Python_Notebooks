{
 "cells": [
  {
   "cell_type": "markdown",
   "metadata": {},
   "source": [
    "# Day 2 - Control Flow, Functions, & Modules"
   ]
  },
  {
   "cell_type": "markdown",
   "metadata": {},
   "source": [
    "## Overview"
   ]
  },
  {
   "cell_type": "markdown",
   "metadata": {},
   "source": [
    "This notebook covers:\n",
    "- Control Flow\n",
    "- Functions\n",
    "- Modules\n",
    "- Lab 2"
   ]
  },
  {
   "cell_type": "markdown",
   "metadata": {},
   "source": [
    "## Lesson 1 - Control Flow"
   ]
  },
  {
   "cell_type": "markdown",
   "metadata": {},
   "source": [
    "<i>Control flow</i> is used to add decision-making logic to a script. \n",
    "\n",
    "When using <i>control flow</i>, a block of code will only execute if certain conditions are met.\n",
    "\n",
    "The types of flow control are:\n",
    "- Conditional Statements (`if`, `elif`, `else`)\n",
    "- Match Statements (`switch` and `case`)\n",
    "- Conditional Loops (`while` loops)\n",
    "- Collection-based Loops (`for` loops)\n",
    "- Count-based Loops (`for` loops with the `range()` function)\n",
    "\n",
    "Conditional statements and loops rely on both comparison and logical operators in order to get a Boolean (`True` or `False`) to make decisions, while count and collection-based loops iterate over a fixed range of values."
   ]
  },
  {
   "cell_type": "markdown",
   "metadata": {},
   "source": [
    "### Reminder - Logical and Comparison Operators\n",
    "\n",
    "As a reminder, Python supports the following logical operators:\n",
    "| Operator | Alias | Description | Example | Example Output |\n",
    "|---| --- | --- | --- | --- |\n",
    "| and | && |And: Returns True if both statements are True | True and False | False |\n",
    "| or | \\\\|\\\\| | Or: Returns True if either statement is True | True or False | True |\n",
    "| not | ! | Not: Returns the opposite of a statement's value | not True | False |\n",
    "\n",
    "Python also supports the following comparison operators:\n",
    "| Operator | Description | Example | Example Output |\n",
    "|---| --- | --- | --- |\n",
    "| == | Equal (to) | 5 == 5 | True |\n",
    "| != | Not Equal (to) | 5 != 5  | False |\n",
    "| > | Greater than | 7 > 5 | True |\n",
    "| >= | Greater than or equal to | 5 >= 5 | True |\n",
    "| < | Less than | 5 < 5 | False |\n",
    "| <= | Less than or equal to |  5 <= 5 | True |\n",
    "| is | Tests if two variables or literals point to the same object (in memory) | 5 is 5 | True |\n",
    "| is not | Tests if two variables or literals do not point to the same object (in memory) | 5 is not 5 | False |\n",
    "| in | Checks if one item/literal is part of or equivalent to another item/literal | [1, 2] in [1, 2, 3] | True |\n",
    "| not in | Checks if one item/literal is not part of or equivalent to another item/literal | [1, 2] not in [1, 2, 3] | False |\n",
    "\n",
    "When using operators, do not forget the order of operations:\n",
    "- Arithmetic (PEMDAS)\n",
    "- Comparisons: (==, !=, >, <, >=, <=, is, is not, in, not in)\n",
    "- Logical: NOR (not, and, or)"
   ]
  },
  {
   "cell_type": "markdown",
   "metadata": {},
   "source": [
    "### Object Output With `bool()` Function\n",
    "\n",
    "In Python, all non-zero or non-empty values will return as `True` when casted with the `bool()` function, while all zero or empty values will return as `False`."
   ]
  },
  {
   "cell_type": "code",
   "execution_count": 1,
   "metadata": {},
   "outputs": [
    {
     "name": "stdout",
     "output_type": "stream",
     "text": [
      "True\n",
      "True\n",
      "True\n",
      "True\n",
      "True\n",
      "False\n",
      "False\n",
      "False\n",
      "False\n",
      "False\n"
     ]
    }
   ],
   "source": [
    "# These values return True\n",
    "print(bool(\"Hello\"))\n",
    "print(bool(1))\n",
    "print(bool(3.1415))\n",
    "print(bool([1,2,3]))\n",
    "print(bool({1:1}))\n",
    "\n",
    "# These values return False\n",
    "print(bool(None))\n",
    "print(bool(0))\n",
    "print(bool(\"\"))\n",
    "print(bool([]))\n",
    "print(bool({}))"
   ]
  },
  {
   "cell_type": "markdown",
   "metadata": {},
   "source": [
    "### Conditional Statements (`if`, `elif`, and `else`)"
   ]
  },
  {
   "cell_type": "markdown",
   "metadata": {},
   "source": [
    "When using `if <logical expression>:` the script will check if the logical expression (or statement) is `True`. If the statement is `True`, it will execute the subordinate code block.\n",
    "\n",
    "Unlike `elif` and `else`, an `if` statement can be used on its own."
   ]
  },
  {
   "cell_type": "code",
   "execution_count": 2,
   "metadata": {},
   "outputs": [
    {
     "name": "stdout",
     "output_type": "stream",
     "text": [
      "root-er\n"
     ]
    }
   ],
   "source": [
    "username = \"root\"\n",
    "\n",
    "if username != \"\":\n",
    "    # Code block 1\n",
    "    if username == \"root\":\n",
    "        # Code block 2\n",
    "        print(\"root-er\")"
   ]
  },
  {
   "cell_type": "markdown",
   "metadata": {},
   "source": [
    "Conditional statements can only support one `else` statement. Unlike an `if` statement, `else` is used as a catch-all if none of the preceding statements are `True`."
   ]
  },
  {
   "cell_type": "code",
   "execution_count": 3,
   "metadata": {},
   "outputs": [
    {
     "name": "stdout",
     "output_type": "stream",
     "text": [
      "Access denied: Bob\n"
     ]
    }
   ],
   "source": [
    "username = \"Bob\"\n",
    "\n",
    "if username == \"root\":\n",
    "    # Code to execute if True\n",
    "    print(\"Access granted\")\n",
    "else:\n",
    "    # code to execute if False\n",
    "    print(\"Access denied:\", username)"
   ]
  },
  {
   "cell_type": "markdown",
   "metadata": {},
   "source": [
    "Some conditional statements may have multiple cases to evaluate. In this case, `elif <logical expression>` (short for else if) is used.\n",
    "\n",
    "`elif` must always be used after the initial `if` block and always before `else`. Unlike both `if` and `else`, `elif` may be used multiple times, however only one code block will ever execute."
   ]
  },
  {
   "cell_type": "code",
   "execution_count": 5,
   "metadata": {},
   "outputs": [
    {
     "name": "stdout",
     "output_type": "stream",
     "text": [
      "The smallest divisor of 15 is 3\n"
     ]
    }
   ],
   "source": [
    "n = 15\n",
    "\n",
    "if n % 2 == 0:\n",
    "    print(\"The smallest divisor of {} is 2\".format(n))\n",
    "elif n % 3 == 0:\n",
    "    print(\"The smallest divisor of {} is 3\".format(n))\n",
    "elif n % 5 == 0:\n",
    "    print(\"The smallest divisor of {} is 5\".format(n))\n",
    "elif n % 7 == 0:\n",
    "    print(\"The smallest divisor of {} is 7\".format(n))\n",
    "else:\n",
    "    print(\"No prime divisor of {} under 10\".format(n))"
   ]
  },
  {
   "cell_type": "markdown",
   "metadata": {},
   "source": [
    "### Match Statements (`switch` and `case`)"
   ]
  },
  {
   "cell_type": "markdown",
   "metadata": {},
   "source": [
    "Introduced in Python 3.10, the `switch<object>:` and `case <literal>:` or `case <logical expression>` allow for concise and readable logical expressions. \n",
    "\n",
    "Like conditional statements (`if`, `elif`, `else`), match statements in Python will only execute the first subordinate block of code with a matching `case`.\n",
    "\n",
    "The special `case _:` can be used for a default or catch all case."
   ]
  },
  {
   "cell_type": "code",
   "execution_count": 36,
   "metadata": {},
   "outputs": [
    {
     "name": "stdout",
     "output_type": "stream",
     "text": [
      "Error: Not found\n"
     ]
    }
   ],
   "source": [
    "status = 404\n",
    "match status:\n",
    "    case 400:\n",
    "        print(\"Error: Bad Request\")\n",
    "    case 401:\n",
    "        print(\"Error: Unauthorized\")\n",
    "    case 403:\n",
    "        print(\"Error: Forbidden\")\n",
    "    case 404:\n",
    "        print(\"Error: Not found\")\n",
    "    case 414:\n",
    "        print(\"Error: I'm a teapot\")\n",
    "    case _:\n",
    "        print(\"No Errror Found: Check your internet connection\")"
   ]
  },
  {
   "cell_type": "markdown",
   "metadata": {},
   "source": [
    "When using conditional statements as part of the `case`, you can use the referenced variable or literal from the `match` statement itself. However, you can also define a new variable, which will implicitly references the variable or literal given in the `match` statement."
   ]
  },
  {
   "cell_type": "code",
   "execution_count": 49,
   "metadata": {},
   "outputs": [
    {
     "name": "stdout",
     "output_type": "stream",
     "text": [
      "The smallest divisor of 25 is: 5\n",
      "Commissary sushi it is!\n"
     ]
    }
   ],
   "source": [
    "n = 25\n",
    "divisor = 0\n",
    "\n",
    "# Thought question: why is 'not' used here? \n",
    "match n:\n",
    "    case n if not n % 2:\n",
    "        divisor = 2\n",
    "    case n if not n % 3:\n",
    "        divisor = 3\n",
    "    case n if not n % 5:\n",
    "        divisor = 5\n",
    "    case n if not n % 7:\n",
    "        divisor = 7\n",
    "    case _:\n",
    "        divisor = \"not found\" \n",
    "print(\"The smallest divisor of {} is: {}\".format(n, divisor))\n",
    "\n",
    "# amount references money_for_lunch implicitly\n",
    "money_for_lunch = 15\n",
    "match money_for_lunch:\n",
    "    case amount if amount > 5 and amount < 10:\n",
    "        print(\"The Bowling Alley might have something\")\n",
    "    case amount if amount >= 10 and amount <= 13:\n",
    "        print(\"Tacos!\")\n",
    "    case amount if amount > 13:\n",
    "        print(\"Commissary sushi it is!\")\n",
    "    case _:\n",
    "        print(\"Guess I will buy a bag of popcorn from the Snacko\")"
   ]
  },
  {
   "cell_type": "markdown",
   "metadata": {},
   "source": [
    "### Conditional Loops (`while`)"
   ]
  },
  {
   "cell_type": "markdown",
   "metadata": {},
   "source": [
    "A conditional, or `while`, loop executes its subordinate code block until its condition remains `True`. The syntax for a `while` loop is:\n",
    "\n",
    "`while <conditional statement>:`\n",
    "<br>&emsp;`code to execute...`"
   ]
  },
  {
   "cell_type": "code",
   "execution_count": 50,
   "metadata": {},
   "outputs": [
    {
     "name": "stdout",
     "output_type": "stream",
     "text": [
      "1\n",
      "2\n",
      "3\n",
      "4\n",
      "5\n"
     ]
    }
   ],
   "source": [
    "n = 1\n",
    "while n < 6:\n",
    "    print(n)\n",
    "    n += 1"
   ]
  },
  {
   "cell_type": "markdown",
   "metadata": {},
   "source": [
    "### Break and Continue\n",
    "\n",
    "Unlike in other languages, Python does not support `do-while` or `do-until` loops. However, this behavior can be mimicked with the `continue` and `break` statements. \n",
    "\n",
    "`break` tells the script to immediately exit the closest `while` or `for` loop (and ignores matching or conditional statements).\n",
    "\n",
    "`continue` tells the script to immediately executes the next iteration of the closest `while` or `for` loop (and ignores matching or conditional statements)."
   ]
  },
  {
   "cell_type": "code",
   "execution_count": 1,
   "metadata": {},
   "outputs": [
    {
     "name": "stdout",
     "output_type": "stream",
     "text": [
      "Divisor found\n",
      "The smallest divisor of 25 is 5\n"
     ]
    }
   ],
   "source": [
    "i = 2\n",
    "n = 25\n",
    "\n",
    "while True:\n",
    "    if n % i == 0:\n",
    "        print(\"Divisor found\")\n",
    "        break\n",
    "    i += 1\n",
    "\n",
    "print(\"The smallest divisor of {} is {}\".format(n, i))"
   ]
  },
  {
   "cell_type": "markdown",
   "metadata": {},
   "source": [
    "### Collection-based Loops (`for`)\n",
    "\n",
    "Unlike other programming languages, Python does not have a native `for each` loop structure. However, Python's `for` loops operates like a `for each` loop by using the `in` keyword to iterate through an iterable object's items.\n",
    "\n",
    "In Python, iterable objects include:\n",
    "- lists\n",
    "- strings\n",
    "- tuples\n",
    "- sets\n",
    "\n",
    "The syntax for iterating through iterable objects is:\n",
    "<br>`for <variable_name> in <iterable_object_name>:`\n",
    "<br>&emsp;`code to execute...`"
   ]
  },
  {
   "cell_type": "code",
   "execution_count": 64,
   "metadata": {},
   "outputs": [
    {
     "name": "stdout",
     "output_type": "stream",
     "text": [
      "apples\n",
      "bananas\n",
      "cherries\n"
     ]
    }
   ],
   "source": [
    "fruits = [\"apples\", \"bananas\", \"cherries\"]\n",
    "for fruit in fruits:\n",
    "    print(fruit)"
   ]
  },
  {
   "cell_type": "markdown",
   "metadata": {},
   "source": [
    "#### The `enumerate()` Function\n",
    "\n",
    "To get both the index and the element of a list, use the `enumerate()` function with the following syntax:\n",
    "\n",
    "<br>`for <variable_name> in enumerate(<iterable_object_name>):`\n",
    "<br>&emsp;`code to execute...`\n",
    "\n",
    "Note: `enumerate()` creates a list of tuples with pairs of indexes and elements: `[(index, element), (index, element), …]`\n"
   ]
  },
  {
   "cell_type": "code",
   "execution_count": 3,
   "metadata": {},
   "outputs": [
    {
     "name": "stdout",
     "output_type": "stream",
     "text": [
      "pizza is in the position 0\n",
      "muffin is in the position 1\n",
      "banana is in the position 2\n"
     ]
    }
   ],
   "source": [
    "foods = [\"pizza\", \"muffin\", \"banana\"]\n",
    "for index, value in enumerate(foods):\n",
    "    print(\"{} is in the position {}\".format(value, index))"
   ]
  },
  {
   "cell_type": "markdown",
   "metadata": {},
   "source": [
    "#### Dictionary Iteration\n",
    "\n",
    "Dictionaries can be iterated through using the following syntax:\n",
    "| Syntax | Description |\n",
    "| --- | --- |\n",
    "| `for <var> in dict1` | iterates through a dictionary’s keys |\n",
    "| `for <var> in dict1.values()` | iterates through a dictionary’s values |\n",
    "| `for <var1>, <var2> in dict1.items()` | iterates through key:value pairs |"
   ]
  },
  {
   "cell_type": "code",
   "execution_count": 4,
   "metadata": {},
   "outputs": [
    {
     "name": "stdout",
     "output_type": "stream",
     "text": [
      "1 a\n",
      "2 b\n",
      "3 c\n",
      "a\n",
      "b\n",
      "c\n",
      "1 a\n",
      "2 b\n",
      "3 c\n"
     ]
    }
   ],
   "source": [
    "dict1 = {1:\"a\", 2:\"b\", 3:\"c\"}\n",
    "for key in dict1:\n",
    "    print(key, dict1[key])\n",
    "\n",
    "for value in dict1.values():\n",
    "    print(value)\n",
    "\n",
    "for key, value in dict1.items():\n",
    "    print(key, value)"
   ]
  },
  {
   "cell_type": "markdown",
   "metadata": {},
   "source": [
    "### Count-based Loops\n",
    "\n",
    "#### The `range()` Function\n",
    "\n",
    "The `range()` function is essential to using a count-based `for` loop. \n",
    "\n",
    "Similar to a list or string's index, the `range()` function takes three arguments:\n",
    "- start (optional, default = 0)\n",
    "- stop (required)\n",
    "- step (optional, default = 1)\n",
    "\n",
    "Unlike index, the only argument required is stop. However, the stop value is always read as the second value when multiple values are given to `range()`. \n",
    "\n",
    "Like with an index, stop will always stop at the value immediately before the given stop value. "
   ]
  },
  {
   "cell_type": "code",
   "execution_count": 62,
   "metadata": {},
   "outputs": [
    {
     "name": "stdout",
     "output_type": "stream",
     "text": [
      "[0, 1, 2, 3, 4, 5]\n",
      "[2, 3, 4]\n",
      "[3, 6, 9, 12, 15, 18, 21, 24, 27, 30]\n",
      "[100, 96, 92, 88, 84, 80, 76, 72]\n"
     ]
    }
   ],
   "source": [
    "# range with just a stop value\n",
    "li = list(range(6))\n",
    "print(li)\n",
    "\n",
    "# range with both start and stop\n",
    "li = list(range(2, 5))\n",
    "print(li)\n",
    "\n",
    "# range with start, stop, and step\n",
    "threes = list(range(3, 31, 3))\n",
    "print(threes)\n",
    "\n",
    "# range with negative step\n",
    "passingGrades = list(range(100, 69, -4))\n",
    "print(passingGrades)\n"
   ]
  },
  {
   "cell_type": "markdown",
   "metadata": {},
   "source": [
    "#### Count-based `for` Loops\n",
    "\n",
    "The `for` loop is used can be used to iterate through an operation a set number of times by using the `range()` function.\n",
    "\n",
    "The syntax is:\n",
    "<br>`for <variable_name> in range(<start>, <stop>, <step>):`\n",
    "<br>&emsp;`code to execute...`"
   ]
  },
  {
   "cell_type": "code",
   "execution_count": 63,
   "metadata": {},
   "outputs": [
    {
     "name": "stdout",
     "output_type": "stream",
     "text": [
      "2\n",
      "5\n",
      "8\n",
      "11\n"
     ]
    }
   ],
   "source": [
    "# example for loop using range\n",
    "for x in range(2, 12, 3):\n",
    "    print(x)"
   ]
  },
  {
   "cell_type": "code",
   "execution_count": 67,
   "metadata": {},
   "outputs": [
    {
     "name": "stdout",
     "output_type": "stream",
     "text": [
      "h\n",
      "e\n",
      "l\n",
      "l\n",
      "o\n"
     ]
    }
   ],
   "source": [
    "word = \"hello\"\n",
    "for c in word:\n",
    "    print(c)"
   ]
  },
  {
   "cell_type": "markdown",
   "metadata": {},
   "source": [
    "Note: the object being iterated through can be modified by the loop. In this case, be careful not to modify the object in such a way that the `for` loop can run forever.  "
   ]
  },
  {
   "cell_type": "code",
   "execution_count": 68,
   "metadata": {},
   "outputs": [
    {
     "ename": "KeyboardInterrupt",
     "evalue": "",
     "output_type": "error",
     "traceback": [
      "\u001b[1;31m---------------------------------------------------------------------------\u001b[0m",
      "\u001b[1;31mKeyboardInterrupt\u001b[0m                         Traceback (most recent call last)",
      "\u001b[1;32mc:\\Users\\graha\\Documents\\Notebooks\\Python Notebooks\\Functions and Flow Control.ipynb Cell 40\u001b[0m line \u001b[0;36m3\n\u001b[0;32m      <a href='vscode-notebook-cell:/c%3A/Users/graha/Documents/Notebooks/Python%20Notebooks/Functions%20and%20Flow%20Control.ipynb#Y102sZmlsZQ%3D%3D?line=0'>1</a>\u001b[0m nums \u001b[39m=\u001b[39m [\u001b[39m2\u001b[39m, \u001b[39m4\u001b[39m, \u001b[39m6\u001b[39m, \u001b[39m8\u001b[39m, \u001b[39m10\u001b[39m]\n\u001b[0;32m      <a href='vscode-notebook-cell:/c%3A/Users/graha/Documents/Notebooks/Python%20Notebooks/Functions%20and%20Flow%20Control.ipynb#Y102sZmlsZQ%3D%3D?line=1'>2</a>\u001b[0m \u001b[39mfor\u001b[39;00m num \u001b[39min\u001b[39;00m nums:\n\u001b[1;32m----> <a href='vscode-notebook-cell:/c%3A/Users/graha/Documents/Notebooks/Python%20Notebooks/Functions%20and%20Flow%20Control.ipynb#Y102sZmlsZQ%3D%3D?line=2'>3</a>\u001b[0m     nums\u001b[39m.\u001b[39mappend(num \u001b[39m*\u001b[39;49m\u001b[39m*\u001b[39;49m \u001b[39m2\u001b[39;49m)\n\u001b[0;32m      <a href='vscode-notebook-cell:/c%3A/Users/graha/Documents/Notebooks/Python%20Notebooks/Functions%20and%20Flow%20Control.ipynb#Y102sZmlsZQ%3D%3D?line=3'>4</a>\u001b[0m \u001b[39mprint\u001b[39m(nums)\n",
      "\u001b[1;31mKeyboardInterrupt\u001b[0m: "
     ]
    }
   ],
   "source": [
    "# example of an infinite for loop\n",
    "nums = [2, 4, 6, 8, 10]\n",
    "for num in nums:\n",
    "    nums.append(num ** 2)\n",
    "print(nums)"
   ]
  },
  {
   "cell_type": "markdown",
   "metadata": {},
   "source": [
    "In cases where it is advantageous to access an object by index (such as when you are modifying it), this functionality can be mirrored by the `len()` function, which gets the length of the iterable object.\n",
    "\n",
    "Note: when applying a function, like `ord()`, to an iterable object, remember that Python has the built-in `map(<function_name>, <iterable_object>)` function, which is often more efficient for this action."
   ]
  },
  {
   "cell_type": "code",
   "execution_count": 69,
   "metadata": {},
   "outputs": [
    {
     "name": "stdout",
     "output_type": "stream",
     "text": [
      "[4, 16, 36, 64, 100]\n"
     ]
    }
   ],
   "source": [
    "nums = [2, 4, 6, 8, 10]\n",
    "for i in range(len(nums)):\n",
    "    nums[i] *= nums[i]\n",
    "print(nums)"
   ]
  },
  {
   "cell_type": "markdown",
   "metadata": {},
   "source": [
    "### Nested Loops"
   ]
  },
  {
   "cell_type": "markdown",
   "metadata": {},
   "source": [
    "A <i>nested</i> loop is when multiple conditional and/or iterative loops are combined in different blocks of code. This is often required for more complex functions or operations.\n",
    "\n",
    "In a nested loop, each higher level block or <i>outer loop</i> will execute once for each full iteration of its <i>inner loop</i>."
   ]
  },
  {
   "cell_type": "code",
   "execution_count": 73,
   "metadata": {},
   "outputs": [
    {
     "name": "stdout",
     "output_type": "stream",
     "text": [
      "sweet apple\n",
      "sweet banana\n",
      "sweet cherry\n",
      "ripe apple\n",
      "ripe banana\n",
      "ripe cherry\n",
      "tasty apple\n",
      "tasty banana\n",
      "tasty cherry\n"
     ]
    }
   ],
   "source": [
    "adj = [\"sweet\", \"ripe\", \"tasty\"]\n",
    "fruits = [\"apple\", \"banana\", \"cherry\"]\n",
    "for i in adj:\n",
    "    for j in fruits:\n",
    "        print(i, j)"
   ]
  },
  {
   "cell_type": "markdown",
   "metadata": {},
   "source": [
    "## Lesson 2 - Functions\n",
    "\n",
    "### Declaration and Arguments\n",
    "\n",
    "<i>Functions</i> are variables whose value is Python code. The code is only execute when the function name, like `print`, is called.\n",
    "\n",
    "A programmer may define a function using the `def` keyword, followed by the function name and any <i>arguments</i>, which are wrapped by parenthesis, and a colon. The syntax for a function declaration is:\n",
    "<br>`def <function_name> (<arguments>*):`\n",
    "<br>&emsp;`\"\"\"Docstring\"\"\"`\n",
    "<br>&emsp;`function code to execute...`\n",
    "\n",
    "A function may have no arguments, one argument, a hundred variables, or a variable amount of arguments, as appropriate to the task it accomplishes. "
   ]
  },
  {
   "cell_type": "code",
   "execution_count": 76,
   "metadata": {},
   "outputs": [],
   "source": [
    "# declaring a function with no arguments\n",
    "def foobar():\n",
    "    print(\"foo + bar = foobar\")"
   ]
  },
  {
   "cell_type": "markdown",
   "metadata": {},
   "source": [
    "To execute a function, simply call it by its `<function_name>(<arguments>*)`"
   ]
  },
  {
   "cell_type": "code",
   "execution_count": 75,
   "metadata": {},
   "outputs": [
    {
     "name": "stdout",
     "output_type": "stream",
     "text": [
      "foo + bar = foobar\n"
     ]
    }
   ],
   "source": [
    "# calling the declared function\n",
    "foobar()"
   ]
  },
  {
   "cell_type": "markdown",
   "metadata": {},
   "source": [
    "When passing <i>arguments</i> to a function, an argument is specified by a unique variable name that will be used within the function. When using multiple arguments, arguments are separated by commas. Syntax:\n",
    "<br>`def <function_name> (<arg1>, <arg2>, ..., <argn>):`\n",
    "<br>&emsp;`\"\"\"Docstring\"\"\"`\n",
    "<br>&emsp;`function code to execute...`\n",
    "\n",
    "An argument can be a literal, a list, or any other variable type. It will be treated as the same data type within the function."
   ]
  },
  {
   "cell_type": "code",
   "execution_count": 81,
   "metadata": {},
   "outputs": [
    {
     "name": "stdout",
     "output_type": "stream",
     "text": [
      "foobar = red orchestra\n",
      "1\n",
      "2\n",
      "3\n",
      "4\n"
     ]
    }
   ],
   "source": [
    "def foobar(foo, bar):\n",
    "    print(\"foobar =\", foo, bar)\n",
    "\n",
    "foo, bar = \"red\", \"orchestra\"\n",
    "foobar(foo, bar)\n",
    "\n",
    "def iterateThroughList(li):\n",
    "    for i in li:\n",
    "        print(i)\n",
    "\n",
    "listy = [1, 2, 3, 4]\n",
    "iterateThroughList(listy)"
   ]
  },
  {
   "cell_type": "markdown",
   "metadata": {},
   "source": [
    "Arguments can be assigned default values, making the <i>optional</i>. To assign a default value, use an equals sign (=) after the argument name and assign the default value.\n",
    "\n",
    "Default/optional values must be assigned last."
   ]
  },
  {
   "cell_type": "code",
   "execution_count": 83,
   "metadata": {},
   "outputs": [
    {
     "name": "stdout",
     "output_type": "stream",
     "text": [
      "I appreciate the source: 8.8.8.8, and I love the destination: 192.168.0.1, but there is no place like home: 127.0.0.1\n"
     ]
    }
   ],
   "source": [
    "# default/optional value example\n",
    "def my_func(source, dest, localhost=\"127.0.0.1\"):\n",
    "     print(\"I appreciate the source: {}, and I love the destination: {}, but there is no place like home: {}\".format(source, dest, localhost))\n",
    "\n",
    "my_func(\"8.8.8.8\", \"192.168.0.1\")"
   ]
  },
  {
   "cell_type": "markdown",
   "metadata": {},
   "source": [
    "When invoking a function, arguments can also be called by name."
   ]
  },
  {
   "cell_type": "code",
   "execution_count": 85,
   "metadata": {},
   "outputs": [
    {
     "name": "stdout",
     "output_type": "stream",
     "text": [
      "Your answer is 0\n"
     ]
    }
   ],
   "source": [
    "# invoking arguments by name\n",
    "def secret_func(x, y, z=50):\n",
    "    print(\"Your answer is\", x*y%z)\n",
    "\n",
    "secret_func(x = 4, y = 4, z = 16)"
   ]
  },
  {
   "cell_type": "markdown",
   "metadata": {},
   "source": [
    "Sometimes, it may be useful to define a function with an indeterminate number or arguments. In this case, use the syntax `*<arg_name>` to define an argument as (potentially) multiple arguments."
   ]
  },
  {
   "cell_type": "code",
   "execution_count": 103,
   "metadata": {},
   "outputs": [
    {
     "data": {
      "text/plain": [
       "18"
      ]
     },
     "execution_count": 103,
     "metadata": {},
     "output_type": "execute_result"
    }
   ],
   "source": [
    "# functions can also have a variable list of arguments by using *\n",
    "def addall(*args):\n",
    "    return sum(args)\n",
    "\n",
    "addall(5, 6, 4, 3)"
   ]
  },
  {
   "cell_type": "markdown",
   "metadata": {},
   "source": [
    "### Scope\n",
    "\n",
    "Variables inside a function only exist within the function. This is known as a variable's <i>scope</i>.\n",
    "\n",
    "Variables within a function are known as <i>local</i> variables, while variables outside of a function's scope (in main's scope) are known as <i>global</i> variables."
   ]
  },
  {
   "cell_type": "code",
   "execution_count": 100,
   "metadata": {},
   "outputs": [
    {
     "name": "stdout",
     "output_type": "stream",
     "text": [
      "5\n",
      "10\n"
     ]
    }
   ],
   "source": [
    "# printing a function and global variable\n",
    "def inafunc():\n",
    "    a = 5\n",
    "    print(a)\n",
    "\n",
    "a = 10\n",
    "inafunc()\n",
    "print(a)"
   ]
  },
  {
   "cell_type": "markdown",
   "metadata": {},
   "source": [
    "Variables at a higher or global scope can be overwritten with the `global` keyword."
   ]
  },
  {
   "cell_type": "code",
   "execution_count": 102,
   "metadata": {},
   "outputs": [
    {
     "name": "stdout",
     "output_type": "stream",
     "text": [
      "5\n",
      "5\n"
     ]
    }
   ],
   "source": [
    "# changing a global variable using the global keyword\n",
    "def inafunc():\n",
    "    global a \n",
    "    a = 5\n",
    "    print(a)\n",
    "\n",
    "a = 10\n",
    "inafunc()\n",
    "print(a)"
   ]
  },
  {
   "cell_type": "markdown",
   "metadata": {},
   "source": [
    "### The `return` Keyword\n",
    "\n",
    "Using the `global` keyword is often inappropriate or dangerous as <i>global</i> variables can cause bugs (which are often hidden, non-obvious, and hard to detect) and \"spaghetti\" (unreadable) code. \n",
    "\n",
    "The `return` keyword is used to cleanly get function/local variable or variables to a higher block of code (higher scope). It is always best-practice to return a variable instead of use the `global` keyword."
   ]
  },
  {
   "cell_type": "code",
   "execution_count": 2,
   "metadata": {},
   "outputs": [
    {
     "name": "stdout",
     "output_type": "stream",
     "text": [
      "15 25 45\n",
      "A large, 18\" pizza is 402.12 inches squared more pizza than a medium, 14\" pizza\n",
      "A medium, 14\" pizza is 163.36 inches squared more pizza than a small, 12\" pizza\n",
      "A large, 18\" pizza is 565.49 inches squared more pizza than small, 12\" pizza\n",
      "Always remember pizza volume when ordering pizza!\n"
     ]
    }
   ],
   "source": [
    "# import will be covered next in Lesson 3 - Modules\n",
    "from math import pi\n",
    "def getArea(r):\n",
    "    return pi * r ** 2\n",
    "\n",
    "def myfunction(x):\n",
    "    return x * 5\n",
    "\n",
    "w, y, z = myfunction(3), myfunction(5), myfunction(9)\n",
    "print(w, y, z)\n",
    "\n",
    "pizzaVolumeSmall = getArea(12)\n",
    "pizzaVolumeMedium = getArea(14)\n",
    "pizzaVolumeLarge = getArea(18)\n",
    "print(\"A large, 18\\\" pizza is {:.2f} inches squared more pizza than a medium, 14\\\" pizza\".format(pizzaVolumeLarge-pizzaVolumeMedium))\n",
    "print(\"A medium, 14\\\" pizza is {:.2f} inches squared more pizza than a small, 12\\\" pizza\".format(pizzaVolumeMedium-pizzaVolumeSmall))\n",
    "print(\"A large, 18\\\" pizza is {:.2f} inches squared more pizza than small, 12\\\" pizza\".format(pizzaVolumeLarge-pizzaVolumeSmall))\n",
    "print(\"Always remember pizza volume when ordering pizza!\")"
   ]
  },
  {
   "cell_type": "code",
   "execution_count": 3,
   "metadata": {},
   "outputs": [
    {
     "name": "stdout",
     "output_type": "stream",
     "text": [
      "(5, 10)\n",
      "5 10 15\n"
     ]
    }
   ],
   "source": [
    "def return2vals():\n",
    "    return 5, 10\n",
    "a, b = return2vals()\n",
    "print(return2vals())\n",
    "c = a + b\n",
    "print(a, b, c)"
   ]
  },
  {
   "cell_type": "markdown",
   "metadata": {},
   "source": [
    "## Lesson 3 - Modules\n",
    "\n",
    "<i>Modules</i> are groups of reusable functions. \n",
    "\n",
    "Python has built-in and third-party modules, many of which are grouped together into packages.\n",
    "\n",
    "Note: to see an extensive list of third-party Python modules, look here: https://pypi.org\n",
    "\n",
    "Whether built-in or third-party, Python modules can be imported into a file or in Interactive mode using the `import` and `from` keywords.\n",
    "\n",
    "Used alone, the `import` command will import an entire module. To use the `import` command, use the syntax:\n",
    "`import <module_name>`\n",
    "\n",
    "When using `import`, different functions from the module must be referenced using: `<module_name>.<function_name>`"
   ]
  },
  {
   "cell_type": "code",
   "execution_count": 104,
   "metadata": {},
   "outputs": [
    {
     "name": "stdout",
     "output_type": "stream",
     "text": [
      "25.0\n"
     ]
    }
   ],
   "source": [
    "# example import\n",
    "import math\n",
    "# exponential\n",
    "print(math.pow(5,2))"
   ]
  },
  {
   "cell_type": "markdown",
   "metadata": {},
   "source": [
    "A specific function can be imported using the syntax: `from <module_name> import <function_name>`\n",
    "\n",
    "When importing a function this way, it can be directly referenced by name."
   ]
  },
  {
   "cell_type": "code",
   "execution_count": 106,
   "metadata": {},
   "outputs": [
    {
     "name": "stdout",
     "output_type": "stream",
     "text": [
      "6\n"
     ]
    }
   ],
   "source": [
    "# example from import: gcd - gets the greatest common divisor of two integers\n",
    "from math import gcd\n",
    "print(gcd(6, 24))"
   ]
  },
  {
   "cell_type": "markdown",
   "metadata": {},
   "source": [
    "If all functions from a library need to be imported, by name, use the syntax: `from <module_name> import *`\n",
    "\n",
    "When importing this way, all functions in a module can be directly referenced by name."
   ]
  },
  {
   "cell_type": "code",
   "execution_count": 107,
   "metadata": {},
   "outputs": [
    {
     "name": "stdout",
     "output_type": "stream",
     "text": [
      "8.0\n"
     ]
    }
   ],
   "source": [
    "from math import *\n",
    "print(pow(2, 3))"
   ]
  },
  {
   "cell_type": "markdown",
   "metadata": {},
   "source": [
    "### Built-in Modules"
   ]
  },
  {
   "cell_type": "markdown",
   "metadata": {},
   "source": [
    "Python has the following built-in modules:\n",
    "| Module Name | Description |\n",
    "| :-- | --- |\n",
    "| collections | Provides specialized dictionaries with modified behavior |\n",
    "| *hashlib | Used for hash functions (MD5, SHA1, etc.) |\n",
    "| http_server | Used to create a basic web server |\n",
    "| *pdb | Used for the Python debugger |\n",
    "| pip | Python's official package manager |\n",
    "| *re | Used for regular expressions |\n",
    "| subprocess | Start, stop, and interact with the OS and processes. Captures the output of those commands |\n",
    "| socket | Allows the receipt and transmission of packets across a network. Supports TCP/IP and UDP. |\n",
    "| sys | Used to process comand line variables and interact with the OS |\n",
    "| *urllib | Enables HTTP(S) web iteractions |\n",
    "\n",
    "\\* = not testable\n",
    "\n",
    "#### The `Collections` Module\n",
    "\n",
    "The `collections` module provides several, special purpose dictionaries:\n",
    "- `Defaultdict`: creates a dictionary that enables a default value for undefined keys\n",
    "- `Counter`: creates a dictionary that automatically counts the number of times a key is used (such as the number of times a word is used in a book)"
   ]
  },
  {
   "cell_type": "code",
   "execution_count": 4,
   "metadata": {},
   "outputs": [
    {
     "name": "stdout",
     "output_type": "stream",
     "text": [
      "[('the', 7018), ('of', 3500), ('and', 3155), ('a', 2539), ('to', 2375), ('in', 2100), (';', 1949), ('that', 1478), ('his', 1317), ('i', 1185)]\n",
      "852\n",
      "854\n",
      "852\n"
     ]
    }
   ],
   "source": [
    "# Counter example \n",
    "from collections import Counter\n",
    "word_count = Counter()\n",
    "word_count.update(open(\"mobydick.txt\").read().lower().split())\n",
    "print(word_count.most_common(10))\n",
    "print(word_count[\"was\"])\n",
    "word_count.update(['was', 'is', 'was', 'am'])\n",
    "print(word_count[\"was\"])\n",
    "word_count.subtract(['was', 'is', 'was', 'am'])\n",
    "print(word_count[\"was\"])"
   ]
  },
  {
   "cell_type": "markdown",
   "metadata": {},
   "source": [
    "#### Module Installation via `pip`\n",
    "\n",
    "`pip` is Python's official package manager.\n",
    "\n",
    "`pip` can be used to install packages in Python 3.4 or greater.\n",
    "\n",
    "`pip` is generally used in the following ways:\n",
    "- `pip install <requirements.txt>` - installs all modules in the given file (typically requirements.txt)\n",
    "- `pip install <package_name>` - installs the given module\n",
    "- `pip install --upgrade <package_name>` - upgrades an exiting module/package to the most current version"
   ]
  },
  {
   "cell_type": "markdown",
   "metadata": {},
   "source": [
    "### Importing Local Packages\n",
    "\n",
    "By default, a package will execute when it is imported."
   ]
  },
  {
   "cell_type": "code",
   "execution_count": 1,
   "metadata": {},
   "outputs": [
    {
     "name": "stdout",
     "output_type": "stream",
     "text": [
      "This is a Python file\n",
      "\n"
     ]
    }
   ],
   "source": [
    "# Note: your shell must be in the same location as the file for\n",
    "# third-party modules\n",
    "import printy"
   ]
  },
  {
   "cell_type": "markdown",
   "metadata": {},
   "source": [
    "Usually, executing an imported file is not desirable. \n",
    "\n",
    "The <i>\\_\\_name\\_\\_</i> variable is used to tell the Python interpreter if a file is being imported or executed.\n",
    "\n",
    "The syntax: `if __name__ == \"__main__\"` should be included in a module so that it does not execute by default when imported. In using this syntax, then program will only run when directly invoked.\n",
    "\n",
    "Note: Python will only import modules once. If a module is modified within a script, use: `importlib.reload(<module_name>)` to update the module."
   ]
  },
  {
   "cell_type": "markdown",
   "metadata": {},
   "source": [
    "### Third-Party Modules\n",
    "\n",
    "Some popular third-party modules in Python include:\n",
    "\n",
    "| Package Name | Description |\n",
    "| --- | --- |\n",
    "| *Beautiful Soup | Parses HTML, XML, and other document types to extract information |\n",
    "| *Gmail | Enables interaction with Gmail |\n",
    "| *Impacket | Provides a suite of offensive capabilities including Windows Authentication modules, psexec, pass the hash, smb relay attackes, etc. |\n",
    "| *PExpect | Launches commands and interacts with them (allows for waits and reverse shells, like ssh) |\n",
    "| *Plaso | Log2Timeline forensics module with extendable plugins | \n",
    "| *Requests | Enables interactions with websites |\n",
    "| Scapy | Enables packet analysis and crafting |"
   ]
  },
  {
   "cell_type": "markdown",
   "metadata": {},
   "source": [
    "## Proper Script Structure"
   ]
  },
  {
   "cell_type": "markdown",
   "metadata": {},
   "source": [
    "Proper script structure ensures that a script will execute as expected. A properly structured script has the following order:\n",
    "- Import statements (if any)\n",
    "- Function declaration\n",
    "- `main()` function declaration\n",
    "- A check for the main function: `if __name__ == \"__main__\"`\n",
    "- Global variables\n",
    "- A call of `main()` to execute the script's code"
   ]
  },
  {
   "cell_type": "code",
   "execution_count": 6,
   "metadata": {},
   "outputs": [
    {
     "name": "stdout",
     "output_type": "stream",
     "text": [
      "102\n"
     ]
    }
   ],
   "source": [
    "# proper script structure\n",
    "#!/usr/bin/python -tt\n",
    "\n",
    "# Any relevant comments\n",
    "\n",
    "\"\"\"Docstring: used with the help() function to give other users\n",
    "information on the program, author, and how to use it.\"\"\"\n",
    "\n",
    "# Import Statements\n",
    "\n",
    "# Function Declaration \n",
    "def func(x, y):\n",
    "    \"\"\"Docstring\"\"\"\n",
    "    z = x * int( y + 3 )\n",
    "    return z\n",
    "\n",
    "# main() Function Declaration Last\n",
    "def main():\n",
    "    \"\"\"Docstring\"\"\"\n",
    "    global foo\n",
    "    global bar\n",
    "    if type(foo) != type(1) and type(foo) != type(1.0):\n",
    "        if type(foo) == type(\"\"):\n",
    "            foo = int(foo)\n",
    "        else:\n",
    "            foo = 23\n",
    "\n",
    "    if type(bar) != type(1) and type(bar) != type(1.0):\n",
    "        if type(bar) == type(\"\"):\n",
    "            bar = float(bar)\n",
    "        else:\n",
    "            bar = 77\n",
    "\n",
    "    print(func(foo, bar))\n",
    "\n",
    "# Check for main() \n",
    "if __name__ == \"__main__\":\n",
    "    # Global Variable Declaration\n",
    "    foo = 17\n",
    "    bar = \"3.93\"\n",
    "\n",
    "    # Call main()\n",
    "    main()"
   ]
  },
  {
   "cell_type": "markdown",
   "metadata": {},
   "source": [
    "## Day 2 Lab"
   ]
  },
  {
   "cell_type": "code",
   "execution_count": 13,
   "metadata": {},
   "outputs": [],
   "source": [
    "# 1. A bank customer wants to withdraw money from her account at an ATM. Create a \n",
    "#    program for the ATM to check the customer's balance and determine if there is \n",
    "#    enough money in the account. If there’s not enough money in the account, return \n",
    "#    the string \"Insufficient funds.\" If the withdraw is the same amount as the \n",
    "#    balance, return 'This is all your money!'. If the withdraw is less than the \n",
    "#    balance, calculate the new balance, and return the new balance, casted as a \n",
    "#    string, up to two decimal points.\n",
    "\n",
    "def withdrawal(balance: float, withdrawal_amount: float) -> str:\n",
    "    pass\n",
    "    # return\n",
    "\n",
    "# 2. Create a function that takes two integer arguments. The function will\n",
    "#    multiplies them together and test's whether the result is even or odd. If\n",
    "#    the result is even, the function will return true. If the result is odd,\n",
    "#    the function will return false.\n",
    "\n",
    "def product_is_even(int1: int, int2: int) -> bool:\n",
    "    pass\n",
    "    # return\n",
    "\n",
    "# 3. Create a function that takes a list of strings as an argument. Reverse the \n",
    "#    list of strings, as well as each string in the list. You are not allowed to\n",
    "#    use list.reverse(). Return the resulting list.\n",
    "\n",
    "def reverse_squared(string_list: list) -> list:\n",
    "    pass\n",
    "    #return \n",
    "\n",
    "\n",
    "# 4. Create a nested loop that creates a multiplication table that is x (rows) by\n",
    "#    y (cols). The times table should start with 1. You should return a 2 dimensional\n",
    "#    array.\n",
    "\n",
    "def times_tables(x: int, y: int) -> list[list]:\n",
    "    pass\n",
    "    # return \n",
    "\n",
    "# 5. Write a function that takes a string parameter, 'string', that returns a string\n",
    "#    only containing the consonants in 'string'.\n",
    "\n",
    "def remove_vowels(string: str) -> str:\n",
    "    pass\n",
    "    # return \n",
    "\n",
    "\"\"\" \n",
    "    ===============================================================================\n",
    "                                DO NOT TOUCH\n",
    "                                EXAMPLE FUNCTION INPUT\n",
    "                                DO NOT TOUCH\n",
    "    ===============================================================================\n",
    "\"\"\"\n",
    "\n",
    "if __name__ == \"__main__\":\n",
    "    balance = 100.30\n",
    "    withdrawal_amount = 30.00\n",
    "    if withdrawal(balance, withdrawal_amount):\n",
    "        print(\"withdrawal function:\")\n",
    "        print(f\"input: balance={balance}, withdrawal_amount={withdrawal_amount}\")\n",
    "        print(f\"output: {withdrawal(balance, withdrawal_amount)}\")\n",
    "        print()\n",
    "    \n",
    "    int1 = 4\n",
    "    int2 = 5\n",
    "    if product_is_even(int1, int2):\n",
    "        print(\"product_is_even function:\")\n",
    "        print(f\"input: int1={int1}, int2={int2}\")\n",
    "        print(f\"output: {product_is_even(int1, int2)}\")\n",
    "        print()\n",
    "\n",
    "    example_list = [\"hello\", \"world\"]\n",
    "    if reverse_squared(example_list):\n",
    "        print(\"reverse_squared function:\")\n",
    "        print(f\"input: string_list={example_list}\")\n",
    "        print(f\"output: {reverse_squared(example_list)}\")\n",
    "        print()\n",
    "    \n",
    "    x, y = 10, 7\n",
    "    if times_tables(x, y):\n",
    "        print(\"times_tables function:\")\n",
    "        print(f\"input: x={x}, y={y}\")\n",
    "        print(\"output:\")\n",
    "        for row in times_tables(x, y):\n",
    "            print(row)\n",
    "        print()\n",
    "\n",
    "    example_string = \"hello world\"\n",
    "    if remove_vowels(example_string):\n",
    "        print(\"remove_vowels function:\")\n",
    "        print(f\"input: string={example_string}\")\n",
    "        print(f\"output: {remove_vowels(example_string)}\")\n",
    "        print()"
   ]
  },
  {
   "cell_type": "code",
   "execution_count": 16,
   "metadata": {},
   "outputs": [
    {
     "name": "stderr",
     "output_type": "stream",
     "text": [
      "test_product_is_even (__main__.TestLab2.test_product_is_even) ... \n",
      "  test_product_is_even (__main__.TestLab2.test_product_is_even) [Product is even] ... FAIL\n",
      "  test_product_is_even (__main__.TestLab2.test_product_is_even) [Product is odd] ... FAIL\n",
      "  test_product_is_even (__main__.TestLab2.test_product_is_even) [Product is zero] ... FAIL\n",
      "test_remove_vowels (__main__.TestLab2.test_remove_vowels) ... FAIL\n",
      "test_reverse_squared (__main__.TestLab2.test_reverse_squared) ... \n",
      "  test_reverse_squared (__main__.TestLab2.test_reverse_squared) [Generic list reversal test] ... FAIL\n",
      "test_times_tables (__main__.TestLab2.test_times_tables) ... \n",
      "  test_times_tables (__main__.TestLab2.test_times_tables) [1] ... ERROR\n",
      "  test_times_tables (__main__.TestLab2.test_times_tables) [2] ... ERROR\n",
      "  test_times_tables (__main__.TestLab2.test_times_tables) [3] ... ERROR\n",
      "  test_times_tables (__main__.TestLab2.test_times_tables) [4] ... ERROR\n",
      "  test_times_tables (__main__.TestLab2.test_times_tables) [5] ... ERROR\n",
      "  test_times_tables (__main__.TestLab2.test_times_tables) [2] ... ERROR\n",
      "  test_times_tables (__main__.TestLab2.test_times_tables) [4] ... ERROR\n",
      "  test_times_tables (__main__.TestLab2.test_times_tables) [6] ... ERROR\n",
      "  test_times_tables (__main__.TestLab2.test_times_tables) [8] ... ERROR\n",
      "  test_times_tables (__main__.TestLab2.test_times_tables) [10] ... ERROR\n",
      "  test_times_tables (__main__.TestLab2.test_times_tables) [3] ... ERROR\n",
      "  test_times_tables (__main__.TestLab2.test_times_tables) [6] ... ERROR\n",
      "  test_times_tables (__main__.TestLab2.test_times_tables) [9] ... ERROR\n",
      "  test_times_tables (__main__.TestLab2.test_times_tables) [12] ... ERROR\n",
      "  test_times_tables (__main__.TestLab2.test_times_tables) [15] ... ERROR\n",
      "test_withdrawal (__main__.TestLab2.test_withdrawal) ... \n",
      "  test_withdrawal (__main__.TestLab2.test_withdrawal) [Successful withdrawal test] ... ERROR\n",
      "  test_withdrawal (__main__.TestLab2.test_withdrawal) [Withdrawal full balance test] ... ERROR\n",
      "  test_withdrawal (__main__.TestLab2.test_withdrawal) [Withdrawal fail test] ... ERROR\n",
      "\n",
      "======================================================================\n",
      "ERROR: test_times_tables (__main__.TestLab2.test_times_tables) [1]\n",
      "----------------------------------------------------------------------\n",
      "Traceback (most recent call last):\n",
      "  File \"C:\\Users\\graha\\AppData\\Local\\Temp\\ipykernel_24096\\4231824442.py\", line 68, in test_times_tables\n",
      "    self.assertEqual(i*k, actual[i-1][k-1])\n",
      "                          ~~~~~~^^^^^\n",
      "TypeError: 'NoneType' object is not subscriptable\n",
      "\n",
      "======================================================================\n",
      "ERROR: test_times_tables (__main__.TestLab2.test_times_tables) [2]\n",
      "----------------------------------------------------------------------\n",
      "Traceback (most recent call last):\n",
      "  File \"C:\\Users\\graha\\AppData\\Local\\Temp\\ipykernel_24096\\4231824442.py\", line 68, in test_times_tables\n",
      "    self.assertEqual(i*k, actual[i-1][k-1])\n",
      "                          ~~~~~~^^^^^\n",
      "TypeError: 'NoneType' object is not subscriptable\n",
      "\n",
      "======================================================================\n",
      "ERROR: test_times_tables (__main__.TestLab2.test_times_tables) [3]\n",
      "----------------------------------------------------------------------\n",
      "Traceback (most recent call last):\n",
      "  File \"C:\\Users\\graha\\AppData\\Local\\Temp\\ipykernel_24096\\4231824442.py\", line 68, in test_times_tables\n",
      "    self.assertEqual(i*k, actual[i-1][k-1])\n",
      "                          ~~~~~~^^^^^\n",
      "TypeError: 'NoneType' object is not subscriptable\n",
      "\n",
      "======================================================================\n",
      "ERROR: test_times_tables (__main__.TestLab2.test_times_tables) [4]\n",
      "----------------------------------------------------------------------\n",
      "Traceback (most recent call last):\n",
      "  File \"C:\\Users\\graha\\AppData\\Local\\Temp\\ipykernel_24096\\4231824442.py\", line 68, in test_times_tables\n",
      "    self.assertEqual(i*k, actual[i-1][k-1])\n",
      "                          ~~~~~~^^^^^\n",
      "TypeError: 'NoneType' object is not subscriptable\n",
      "\n",
      "======================================================================\n",
      "ERROR: test_times_tables (__main__.TestLab2.test_times_tables) [5]\n",
      "----------------------------------------------------------------------\n",
      "Traceback (most recent call last):\n",
      "  File \"C:\\Users\\graha\\AppData\\Local\\Temp\\ipykernel_24096\\4231824442.py\", line 68, in test_times_tables\n",
      "    self.assertEqual(i*k, actual[i-1][k-1])\n",
      "                          ~~~~~~^^^^^\n",
      "TypeError: 'NoneType' object is not subscriptable\n",
      "\n",
      "======================================================================\n",
      "ERROR: test_times_tables (__main__.TestLab2.test_times_tables) [2]\n",
      "----------------------------------------------------------------------\n",
      "Traceback (most recent call last):\n",
      "  File \"C:\\Users\\graha\\AppData\\Local\\Temp\\ipykernel_24096\\4231824442.py\", line 68, in test_times_tables\n",
      "    self.assertEqual(i*k, actual[i-1][k-1])\n",
      "                          ~~~~~~^^^^^\n",
      "TypeError: 'NoneType' object is not subscriptable\n",
      "\n",
      "======================================================================\n",
      "ERROR: test_times_tables (__main__.TestLab2.test_times_tables) [4]\n",
      "----------------------------------------------------------------------\n",
      "Traceback (most recent call last):\n",
      "  File \"C:\\Users\\graha\\AppData\\Local\\Temp\\ipykernel_24096\\4231824442.py\", line 68, in test_times_tables\n",
      "    self.assertEqual(i*k, actual[i-1][k-1])\n",
      "                          ~~~~~~^^^^^\n",
      "TypeError: 'NoneType' object is not subscriptable\n",
      "\n",
      "======================================================================\n",
      "ERROR: test_times_tables (__main__.TestLab2.test_times_tables) [6]\n",
      "----------------------------------------------------------------------\n",
      "Traceback (most recent call last):\n",
      "  File \"C:\\Users\\graha\\AppData\\Local\\Temp\\ipykernel_24096\\4231824442.py\", line 68, in test_times_tables\n",
      "    self.assertEqual(i*k, actual[i-1][k-1])\n",
      "                          ~~~~~~^^^^^\n",
      "TypeError: 'NoneType' object is not subscriptable\n",
      "\n",
      "======================================================================\n",
      "ERROR: test_times_tables (__main__.TestLab2.test_times_tables) [8]\n",
      "----------------------------------------------------------------------\n",
      "Traceback (most recent call last):\n",
      "  File \"C:\\Users\\graha\\AppData\\Local\\Temp\\ipykernel_24096\\4231824442.py\", line 68, in test_times_tables\n",
      "    self.assertEqual(i*k, actual[i-1][k-1])\n",
      "                          ~~~~~~^^^^^\n",
      "TypeError: 'NoneType' object is not subscriptable\n",
      "\n",
      "======================================================================\n",
      "ERROR: test_times_tables (__main__.TestLab2.test_times_tables) [10]\n",
      "----------------------------------------------------------------------\n",
      "Traceback (most recent call last):\n",
      "  File \"C:\\Users\\graha\\AppData\\Local\\Temp\\ipykernel_24096\\4231824442.py\", line 68, in test_times_tables\n",
      "    self.assertEqual(i*k, actual[i-1][k-1])\n",
      "                          ~~~~~~^^^^^\n",
      "TypeError: 'NoneType' object is not subscriptable\n",
      "\n",
      "======================================================================\n",
      "ERROR: test_times_tables (__main__.TestLab2.test_times_tables) [3]\n",
      "----------------------------------------------------------------------\n",
      "Traceback (most recent call last):\n",
      "  File \"C:\\Users\\graha\\AppData\\Local\\Temp\\ipykernel_24096\\4231824442.py\", line 68, in test_times_tables\n",
      "    self.assertEqual(i*k, actual[i-1][k-1])\n",
      "                          ~~~~~~^^^^^\n",
      "TypeError: 'NoneType' object is not subscriptable\n",
      "\n",
      "======================================================================\n",
      "ERROR: test_times_tables (__main__.TestLab2.test_times_tables) [6]\n",
      "----------------------------------------------------------------------\n",
      "Traceback (most recent call last):\n",
      "  File \"C:\\Users\\graha\\AppData\\Local\\Temp\\ipykernel_24096\\4231824442.py\", line 68, in test_times_tables\n",
      "    self.assertEqual(i*k, actual[i-1][k-1])\n",
      "                          ~~~~~~^^^^^\n",
      "TypeError: 'NoneType' object is not subscriptable\n",
      "\n",
      "======================================================================\n",
      "ERROR: test_times_tables (__main__.TestLab2.test_times_tables) [9]\n",
      "----------------------------------------------------------------------\n",
      "Traceback (most recent call last):\n",
      "  File \"C:\\Users\\graha\\AppData\\Local\\Temp\\ipykernel_24096\\4231824442.py\", line 68, in test_times_tables\n",
      "    self.assertEqual(i*k, actual[i-1][k-1])\n",
      "                          ~~~~~~^^^^^\n",
      "TypeError: 'NoneType' object is not subscriptable\n",
      "\n",
      "======================================================================\n",
      "ERROR: test_times_tables (__main__.TestLab2.test_times_tables) [12]\n",
      "----------------------------------------------------------------------\n",
      "Traceback (most recent call last):\n",
      "  File \"C:\\Users\\graha\\AppData\\Local\\Temp\\ipykernel_24096\\4231824442.py\", line 68, in test_times_tables\n",
      "    self.assertEqual(i*k, actual[i-1][k-1])\n",
      "                          ~~~~~~^^^^^\n",
      "TypeError: 'NoneType' object is not subscriptable\n",
      "\n",
      "======================================================================\n",
      "ERROR: test_times_tables (__main__.TestLab2.test_times_tables) [15]\n",
      "----------------------------------------------------------------------\n",
      "Traceback (most recent call last):\n",
      "  File \"C:\\Users\\graha\\AppData\\Local\\Temp\\ipykernel_24096\\4231824442.py\", line 68, in test_times_tables\n",
      "    self.assertEqual(i*k, actual[i-1][k-1])\n",
      "                          ~~~~~~^^^^^\n",
      "TypeError: 'NoneType' object is not subscriptable\n",
      "\n",
      "======================================================================\n",
      "ERROR: test_withdrawal (__main__.TestLab2.test_withdrawal) [Successful withdrawal test]\n",
      "----------------------------------------------------------------------\n",
      "Traceback (most recent call last):\n",
      "  File \"C:\\Users\\graha\\AppData\\Local\\Temp\\ipykernel_24096\\4231824442.py\", line 12, in test_withdrawal\n",
      "    actual = withdrawal(balance, withdrawal)\n",
      "             ^^^^^^^^^^^^^^^^^^^^^^^^^^^^^^^\n",
      "TypeError: 'float' object is not callable\n",
      "\n",
      "======================================================================\n",
      "ERROR: test_withdrawal (__main__.TestLab2.test_withdrawal) [Withdrawal full balance test]\n",
      "----------------------------------------------------------------------\n",
      "Traceback (most recent call last):\n",
      "  File \"C:\\Users\\graha\\AppData\\Local\\Temp\\ipykernel_24096\\4231824442.py\", line 18, in test_withdrawal\n",
      "    actual = withdrawal(balance, withdrawal)\n",
      "             ^^^^^^^^^^^^^^^^^^^^^^^^^^^^^^^\n",
      "TypeError: 'float' object is not callable\n",
      "\n",
      "======================================================================\n",
      "ERROR: test_withdrawal (__main__.TestLab2.test_withdrawal) [Withdrawal fail test]\n",
      "----------------------------------------------------------------------\n",
      "Traceback (most recent call last):\n",
      "  File \"C:\\Users\\graha\\AppData\\Local\\Temp\\ipykernel_24096\\4231824442.py\", line 24, in test_withdrawal\n",
      "    actual = withdrawal(balance, withdrawal)\n",
      "             ^^^^^^^^^^^^^^^^^^^^^^^^^^^^^^^\n",
      "TypeError: 'float' object is not callable\n",
      "\n",
      "======================================================================\n",
      "FAIL: test_product_is_even (__main__.TestLab2.test_product_is_even) [Product is even]\n",
      "----------------------------------------------------------------------\n",
      "Traceback (most recent call last):\n",
      "  File \"C:\\Users\\graha\\AppData\\Local\\Temp\\ipykernel_24096\\4231824442.py\", line 31, in test_product_is_even\n",
      "    self.assertEqual(expected, actual)\n",
      "AssertionError: True != None\n",
      "\n",
      "======================================================================\n",
      "FAIL: test_product_is_even (__main__.TestLab2.test_product_is_even) [Product is odd]\n",
      "----------------------------------------------------------------------\n",
      "Traceback (most recent call last):\n",
      "  File \"C:\\Users\\graha\\AppData\\Local\\Temp\\ipykernel_24096\\4231824442.py\", line 36, in test_product_is_even\n",
      "    self.assertEqual(expected, actual)\n",
      "AssertionError: False != None\n",
      "\n",
      "======================================================================\n",
      "FAIL: test_product_is_even (__main__.TestLab2.test_product_is_even) [Product is zero]\n",
      "----------------------------------------------------------------------\n",
      "Traceback (most recent call last):\n",
      "  File \"C:\\Users\\graha\\AppData\\Local\\Temp\\ipykernel_24096\\4231824442.py\", line 41, in test_product_is_even\n",
      "    self.assertEqual(expected, actual)\n",
      "AssertionError: True != None\n",
      "\n",
      "======================================================================\n",
      "FAIL: test_remove_vowels (__main__.TestLab2.test_remove_vowels)\n",
      "----------------------------------------------------------------------\n",
      "Traceback (most recent call last):\n",
      "  File \"C:\\Users\\graha\\AppData\\Local\\Temp\\ipykernel_24096\\4231824442.py\", line 74, in test_remove_vowels\n",
      "    self.assertEqual(expected, actual)\n",
      "AssertionError: 'hll' != None\n",
      "\n",
      "======================================================================\n",
      "FAIL: test_reverse_squared (__main__.TestLab2.test_reverse_squared) [Generic list reversal test]\n",
      "----------------------------------------------------------------------\n",
      "Traceback (most recent call last):\n",
      "  File \"C:\\Users\\graha\\AppData\\Local\\Temp\\ipykernel_24096\\4231824442.py\", line 54, in test_reverse_squared\n",
      "    self.assertListEqual(expected, actual)\n",
      "AssertionError: Second sequence is not a list: None\n",
      "\n",
      "----------------------------------------------------------------------\n",
      "Ran 5 tests in 0.014s\n",
      "\n",
      "FAILED (failures=5, errors=18)\n"
     ]
    }
   ],
   "source": [
    "import unittest\n",
    "import inspect, re\n",
    "\n",
    "class TestLab2(unittest.TestCase):\n",
    "    \n",
    "    def test_withdrawal(self):\n",
    "        balance = 1000.0\n",
    "        \n",
    "        with self.subTest(\"Successful withdrawal test\"):\n",
    "            withdrawal = 250.2\n",
    "            expected = str('%.2f' % (balance - withdrawal))\n",
    "            actual = withdrawal(balance, withdrawal)\n",
    "            self.assertEqual(expected, actual)\n",
    "\n",
    "        with self.subTest(\"Withdrawal full balance test\"):\n",
    "            withdrawal = 1000.0\n",
    "            expected = \"This is all your money!\"\n",
    "            actual = withdrawal(balance, withdrawal)\n",
    "            self.assertEqual(expected, actual)\n",
    "\n",
    "        with self.subTest(\"Withdrawal fail test\"):\n",
    "            withdrawal = 1000.5\n",
    "            expected = \"Insufficient funds.\"\n",
    "            actual = withdrawal(balance, withdrawal)\n",
    "            self.assertEqual(expected, actual)\n",
    "   \n",
    "    def test_product_is_even(self):\n",
    "        with self.subTest(\"Product is even\"):\n",
    "            expected = True\n",
    "            actual = product_is_even(7, 2)\n",
    "            self.assertEqual(expected, actual)\n",
    "        \n",
    "        with self.subTest(\"Product is odd\"):\n",
    "            expected = False\n",
    "            actual = product_is_even(7, 3)\n",
    "            self.assertEqual(expected, actual)\n",
    "\n",
    "        with self.subTest(\"Product is zero\"):\n",
    "            expected = True\n",
    "            actual = product_is_even(7, 0)\n",
    "            self.assertEqual(expected, actual)\n",
    "\n",
    "    def test_reverse_squared(self):\n",
    "        \n",
    "        with self.subTest(\"Does not contain .reverse()\"):\n",
    "            code = inspect.getsource(reverse_squared)\n",
    "            actual = re.search(r'[a-zA-Z]+\\.reverse()', code)\n",
    "            self.assertFalse(actual)\n",
    "\n",
    "        with self.subTest(\"Generic list reversal test\"):\n",
    "            example_input = [\"hello\", \"yes\", \"goodbyes\"]\n",
    "            expected = [\"seybdoog\", \"sey\", \"olleh\"]\n",
    "            actual = reverse_squared(example_input)\n",
    "            self.assertListEqual(expected, actual)\n",
    "        \n",
    "        with self.subTest(\"Empty list reversal test\"):\n",
    "            example_input = []\n",
    "            actual = reverse_squared(example_input)\n",
    "            self.assertFalse(actual)\n",
    "\n",
    "    def test_times_tables(self):\n",
    "        x = 3\n",
    "        y = 5\n",
    "        actual = times_tables(x, y)\n",
    "        for i in range(1, x+1):\n",
    "            for k in range(1, y+1):\n",
    "                with self.subTest(i*k):\n",
    "                    self.assertEqual(i*k, actual[i-1][k-1])\n",
    "\n",
    "    def test_remove_vowels(self):\n",
    "        input = \"hello\"\n",
    "        expected = \"hll\"\n",
    "        actual = remove_vowels(input)\n",
    "        self.assertEqual(expected, actual)\n",
    "\n",
    "if __name__ == \"__main__\":\n",
    "    unittest.main(argv=[''], verbosity=2, exit=False)"
   ]
  }
 ],
 "metadata": {
  "kernelspec": {
   "display_name": "Python 3 (ipykernel)",
   "language": "python",
   "name": "python3"
  },
  "language_info": {
   "codemirror_mode": {
    "name": "ipython",
    "version": 3
   },
   "file_extension": ".py",
   "mimetype": "text/x-python",
   "name": "python",
   "nbconvert_exporter": "python",
   "pygments_lexer": "ipython3",
   "version": "3.11.6"
  }
 },
 "nbformat": 4,
 "nbformat_minor": 4
}

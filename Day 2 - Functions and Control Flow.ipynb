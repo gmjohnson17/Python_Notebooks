{
 "cells": [
  {
   "cell_type": "markdown",
   "metadata": {},
   "source": [
    "# Day 2 - Control Flow, Functions, & Modules"
   ]
  },
  {
   "cell_type": "markdown",
   "metadata": {},
   "source": [
    "## Overview"
   ]
  },
  {
   "cell_type": "markdown",
   "metadata": {},
   "source": [
    "This notebook covers:\n",
    "- Control Flow\n",
    "- Functions\n",
    "- Modules\n",
    "- Lab 2"
   ]
  },
  {
   "cell_type": "markdown",
   "metadata": {},
   "source": [
    "## Lesson 1 - Control Flow"
   ]
  },
  {
   "cell_type": "markdown",
   "metadata": {},
   "source": [
    "<i>Control flow</i> is used to add decision-making logic to a script. \n",
    "\n",
    "When using <i>control flow</i>, a block of code will only execute if certain conditions are met.\n",
    "\n",
    "The types of flow control are:\n",
    "- Conditional Statements (`if`, `elif`, `else`)\n",
    "- Match Statements (`switch` and `case`)\n",
    "- Conditional Loops (`while` loops)\n",
    "- Collection-based Loops (`for` loops)\n",
    "- Count-based Loops (`for` loops with the `range()` function)\n",
    "\n",
    "Conditional statements and loops rely on both comparison and logical operators in order to get a Boolean (`True` or `False`) to make decisions, while count and collection-based loops iterate over a fixed range of values."
   ]
  },
  {
   "cell_type": "markdown",
   "metadata": {},
   "source": [
    "### Reminder - Logical and Comparison Operators\n",
    "\n",
    "As a reminder, Python supports the following logical operators:\n",
    "| Operator | Alias | Description | Example | Example Output |\n",
    "|---| --- | --- | --- | --- |\n",
    "| and | && |And: Returns True if both statements are True | True and False | False |\n",
    "| or | \\|\\| | Or: Returns True if either statement is True | True or False | True |\n",
    "| not | ! | Not: Returns the opposite of a statement's value | not True | False |\n",
    "\n",
    "Python also supports the following comparison operators:\n",
    "| Operator | Description | Example | Example Output |\n",
    "|---| --- | --- | --- |\n",
    "| == | Equal (to) | 5 == 5 | True |\n",
    "| != | Not Equal (to) | 5 != 5  | False |\n",
    "| > | Greater than | 7 > 5 | True |\n",
    "| >= | Greater than or equal to | 5 >= 5 | True |\n",
    "| < | Less than | 5 < 5 | False |\n",
    "| <= | Less than or equal to |  5 <= 5 | True |\n",
    "| is | Tests if two variables or literals point to the same object (in memory) | 5 is 5 | True |\n",
    "| is not | Tests if two variables or literals do not point to the same object (in memory) | 5 is not 5 | False |\n",
    "| in | Checks if one item/literal is part of or equivalent to another item/literal | [1, 2] in [1, 2, 3] | True |\n",
    "| not in | Checks if one item/literal is not part of or equivalent to another item/literal | [1, 2] not in [1, 2, 3] | False |\n",
    "\n",
    "\n",
    "When using operators, do not forget the order of operations:\n",
    "- Arithmetic (PEMDAS)\n",
    "- Comparisons: (==, !=, >, <, >=, <=, is, is not, in, not in)\n",
    "- Logical: NOR (not, and, or)"
   ]
  },
  {
   "cell_type": "markdown",
   "metadata": {},
   "source": [
    "### Object Output With `bool()` Function\n",
    "\n",
    "In Python, all non-zero or non-empty values will return as `True` when casted with the `bool()` function, while all zero or empty values will return as `False`."
   ]
  },
  {
   "cell_type": "code",
   "execution_count": null,
   "metadata": {},
   "outputs": [],
   "source": [
    "# These values return True\n",
    "print(bool(\"Hello\"))\n",
    "print(bool(1))\n",
    "print(bool(3.1415))\n",
    "print(bool([1,2,3]))\n",
    "print(bool({1:1}))\n",
    "\n",
    "# These values return False\n",
    "print(bool(None))\n",
    "print(bool(0))\n",
    "print(bool(\"\"))\n",
    "print(bool([]))\n",
    "print(bool({}))"
   ]
  },
  {
   "cell_type": "markdown",
   "metadata": {},
   "source": [
    "### Conditional Statements (`if`, `elif`, and `else`)"
   ]
  },
  {
   "cell_type": "markdown",
   "metadata": {},
   "source": [
    "When using `if <logical expression>:` the script will check if the logical expression (or statement) is `True`. If the statement is `True`, it will execute the subordinate code block.\n",
    "\n",
    "Unlike `elif` and `else`, an `if` statement can be used on its own."
   ]
  },
  {
   "cell_type": "code",
   "execution_count": null,
   "metadata": {},
   "outputs": [],
   "source": [
    "username = \"root\"\n",
    "\n",
    "if username != \"\":\n",
    "    # Code block 1\n",
    "    if username == \"root\":\n",
    "        # Code block 2\n",
    "        print(\"root-er\")"
   ]
  },
  {
   "cell_type": "markdown",
   "metadata": {},
   "source": [
    "Conditional statements can only support one `else` statement. Unlike an `if` statement, `else` is used as a catch-all if none of the preceding statements are `True`."
   ]
  },
  {
   "cell_type": "code",
   "execution_count": null,
   "metadata": {},
   "outputs": [],
   "source": [
    "username = \"Bob\"\n",
    "\n",
    "if username == \"root\":\n",
    "    # Code to execute if True\n",
    "    print(\"Access granted\")\n",
    "else:\n",
    "    # code to execute if False\n",
    "    print(\"Access denied:\", username)"
   ]
  },
  {
   "cell_type": "markdown",
   "metadata": {},
   "source": [
    "Some conditional statements may have multiple cases to evaluate. In this case, `elif <logical expression>` (short for else if) is used.\n",
    "\n",
    "`elif` must always be used after the initial `if` block and always before `else`. Unlike both `if` and `else`, `elif` may be used multiple times, however only one code block will ever execute."
   ]
  },
  {
   "cell_type": "code",
   "execution_count": null,
   "metadata": {},
   "outputs": [],
   "source": [
    "n = 15\n",
    "\n",
    "if n % 2 == 0:\n",
    "    print(\"The smallest divisor of {} is 2\".format(n))\n",
    "elif n % 3 == 0:\n",
    "    print(\"The smallest divisor of {} is 3\".format(n))\n",
    "elif n % 5 == 0:\n",
    "    print(\"The smallest divisor of {} is 5\".format(n))\n",
    "elif n % 7 == 0:\n",
    "    print(\"The smallest divisor of {} is 7\".format(n))\n",
    "else:\n",
    "    print(\"No prime divisor of {} under 10\".format(n))"
   ]
  },
  {
   "cell_type": "markdown",
   "metadata": {},
   "source": [
    "### Match Statements (`switch` and `case`)"
   ]
  },
  {
   "cell_type": "markdown",
   "metadata": {},
   "source": [
    "Introduced in Python 3.10, the `switch<object>:` and `case <literal>:` or `case <logical expression>` allow for concise and readable logical expressions. \n",
    "\n",
    "Like conditional statements (`if`, `elif`, `else`), match statements in Python will only execute the first subordinate block of code with a matching `case`.\n",
    "\n",
    "The special `case _:` can be used for a default or catch all case."
   ]
  },
  {
   "cell_type": "code",
   "execution_count": null,
   "metadata": {},
   "outputs": [],
   "source": [
    "status = 404\n",
    "match status:\n",
    "    case 400:\n",
    "        print(\"Error: Bad Request\")\n",
    "    case 401:\n",
    "        print(\"Error: Unauthorized\")\n",
    "    case 403:\n",
    "        print(\"Error: Forbidden\")\n",
    "    case 404:\n",
    "        print(\"Error: Not found\")\n",
    "    case 414:\n",
    "        print(\"Error: I'm a teapot\")\n",
    "    case _:\n",
    "        print(\"No Errror Found: Check your internet connection\")"
   ]
  },
  {
   "cell_type": "markdown",
   "metadata": {},
   "source": [
    "When using conditional statements as part of the `case`, you can use the referenced variable or literal from the `match` statement itself. However, you can also define a new variable, which will implicitly references the variable or literal given in the `match` statement."
   ]
  },
  {
   "cell_type": "code",
   "execution_count": null,
   "metadata": {},
   "outputs": [],
   "source": [
    "n = 25\n",
    "divisor = 0\n",
    "\n",
    "# Thought question: why is 'not' used here? \n",
    "match n:\n",
    "    case n if not n % 2:\n",
    "        divisor = 2\n",
    "    case n if not n % 3:\n",
    "        divisor = 3\n",
    "    case n if not n % 5:\n",
    "        divisor = 5\n",
    "    case n if not n % 7:\n",
    "        divisor = 7\n",
    "    case _:\n",
    "        divisor = \"not found\" \n",
    "print(\"The smallest divisor of {} is: {}\".format(n, divisor))\n",
    "\n",
    "# amount references money_for_lunch implicitly\n",
    "money_for_lunch = 15\n",
    "match money_for_lunch:\n",
    "    case amount if amount > 5 and amount < 10:\n",
    "        print(\"The Bowling Alley might have something\")\n",
    "    case amount if amount >= 10 and amount <= 13:\n",
    "        print(\"Tacos!\")\n",
    "    case amount if amount > 13:\n",
    "        print(\"Commissary sushi it is!\")\n",
    "    case _:\n",
    "        print(\"Guess I will buy a bag of popcorn from the Snacko\")"
   ]
  },
  {
   "cell_type": "markdown",
   "metadata": {},
   "source": [
    "### Conditional Loops (`while`)"
   ]
  },
  {
   "cell_type": "markdown",
   "metadata": {},
   "source": [
    "A conditional, or `while`, loop executes its subordinate code block until its condition remains `True`. The syntax for a `while` loop is:\n",
    "\n",
    "`while <conditional statement>:`\n",
    "<br>&emsp;`code to execute...`"
   ]
  },
  {
   "cell_type": "code",
   "execution_count": null,
   "metadata": {},
   "outputs": [],
   "source": [
    "n = 1\n",
    "while n < 6:\n",
    "    print(n)\n",
    "    n += 1"
   ]
  },
  {
   "cell_type": "markdown",
   "metadata": {},
   "source": [
    "### Break and Continue\n",
    "\n",
    "Unlike in other languages, Python does not support `do-while` or `do-until` loops. However, this behavior can be mimicked with the `continue` and `break` statements. \n",
    "\n",
    "`break` tells the script to immediately exit the closest `while` or `for` loop (and ignores matching or conditional statements).\n",
    "\n",
    "`continue` tells the script to immediately executes the next iteration of the closest `while` or `for` loop (and ignores matching or conditional statements)."
   ]
  },
  {
   "cell_type": "code",
   "execution_count": null,
   "metadata": {},
   "outputs": [],
   "source": [
    "i = 2\n",
    "n = 25\n",
    "\n",
    "while True:\n",
    "    if n % i == 0:\n",
    "        print(\"Divisor found\")\n",
    "        break\n",
    "    i += 1\n",
    "\n",
    "print(\"The smallest divisor of {} is {}\".format(n, i))"
   ]
  },
  {
   "cell_type": "markdown",
   "metadata": {},
   "source": [
    "### Collection-based Loops (`for`)\n",
    "\n",
    "Unlike other programming languages, Python does not have a native `for each` loop structure. However, Python's `for` loops operates like a `for each` loop by using the `in` keyword to iterate through an iterable object's items.\n",
    "\n",
    "In Python, iterable objects include:\n",
    "- lists\n",
    "- strings\n",
    "- tuples\n",
    "- sets\n",
    "\n",
    "The syntax for iterating through iterable objects is:\n",
    "<br>`for <variable_name> in <iterable_object_name>:`\n",
    "<br>&emsp;`code to execute...`"
   ]
  },
  {
   "cell_type": "code",
   "execution_count": null,
   "metadata": {},
   "outputs": [],
   "source": [
    "fruits = [\"apples\", \"bananas\", \"cherries\"]\n",
    "for fruit in fruits:\n",
    "    print(fruit)"
   ]
  },
  {
   "cell_type": "markdown",
   "metadata": {},
   "source": [
    "#### The `enumerate()` Function\n",
    "\n",
    "To get both the index and the element of a list, use the `enumerate()` function with the following syntax:\n",
    "\n",
    "<br>`for <variable_name> in enumerate(<iterable_object_name>):`\n",
    "<br>&emsp;`code to execute...`\n",
    "\n",
    "Note: `enumerate()` creates a list of tuples with pairs of indexes and elements: `[(index, element), (index, element), …]`\n"
   ]
  },
  {
   "cell_type": "code",
   "execution_count": null,
   "metadata": {},
   "outputs": [],
   "source": [
    "foods = [\"pizza\", \"muffin\", \"banana\"]\n",
    "for index, value in enumerate(foods):\n",
    "    print(\"{} is in the position {}\".format(value, index))"
   ]
  },
  {
   "cell_type": "markdown",
   "metadata": {},
   "source": [
    "#### Dictionary Iteration\n",
    "\n",
    "Dictionaries can be iterated through using the following syntax:\n",
    "| Syntax | Description |\n",
    "| --- | --- |\n",
    "| `for <var> in dict1` | iterates through a dictionary’s keys |\n",
    "| `for <var> in dict1.values()` | iterates through a dictionary’s values |\n",
    "| `for <var1>, <var2> in dict1.items()` | iterates through key:value pairs |"
   ]
  },
  {
   "cell_type": "code",
   "execution_count": null,
   "metadata": {},
   "outputs": [],
   "source": [
    "dict1 = {1:\"a\", 2:\"b\", 3:\"c\"}\n",
    "for key in dict1:\n",
    "    print(key, dict1[key])\n",
    "\n",
    "for value in dict1.values():\n",
    "    print(value)\n",
    "\n",
    "for key, value in dict1.items():\n",
    "    print(key, value)"
   ]
  },
  {
   "cell_type": "markdown",
   "metadata": {},
   "source": [
    "### Count-based Loops\n",
    "\n",
    "#### The `range()` Function\n",
    "\n",
    "The `range()` function is essential to using a count-based `for` loop. \n",
    "\n",
    "Similar to a list or string's index, the `range()` function takes three arguments:\n",
    "- start (optional, default = 0)\n",
    "- stop (required)\n",
    "- step (optional, default = 1)\n",
    "\n",
    "Unlike index, the only argument required is stop. However, the stop value is always read as the second value when multiple values are given to `range()`. \n",
    "\n",
    "Like with an index, stop will always stop at the value immediately before the given stop value. "
   ]
  },
  {
   "cell_type": "code",
   "execution_count": null,
   "metadata": {},
   "outputs": [],
   "source": [
    "# range with just a stop value\n",
    "li = list(range(6))\n",
    "print(li)\n",
    "\n",
    "# range with both start and stop\n",
    "li = list(range(2, 5))\n",
    "print(li)\n",
    "\n",
    "# range with start, stop, and step\n",
    "threes = list(range(3, 31, 3))\n",
    "print(threes)\n",
    "\n",
    "# range with negative step\n",
    "passingGrades = list(range(100, 69, -4))\n",
    "print(passingGrades)\n"
   ]
  },
  {
   "cell_type": "markdown",
   "metadata": {},
   "source": [
    "#### Count-based `for` Loops\n",
    "\n",
    "The `for` loop is used can be used to iterate through an operation a set number of times by using the `range()` function.\n",
    "\n",
    "The syntax is:\n",
    "<br>`for <variable_name> in range(<start>, <stop>, <step>):`\n",
    "<br>&emsp;`code to execute...`"
   ]
  },
  {
   "cell_type": "code",
   "execution_count": null,
   "metadata": {},
   "outputs": [],
   "source": [
    "# example for loop using range\n",
    "for x in range(2, 12, 3):\n",
    "    print(x)"
   ]
  },
  {
   "cell_type": "code",
   "execution_count": null,
   "metadata": {},
   "outputs": [],
   "source": [
    "word = \"hello\"\n",
    "for c in word:\n",
    "    print(c)"
   ]
  },
  {
   "cell_type": "markdown",
   "metadata": {},
   "source": [
    "Note: the object being iterated through can be modified by the loop. In this case, be careful not to modify the object in such a way that the `for` loop can run forever.  "
   ]
  },
  {
   "cell_type": "code",
   "execution_count": null,
   "metadata": {},
   "outputs": [],
   "source": [
    "# example of an infinite for loop\n",
    "nums = [2, 4, 6, 8, 10]\n",
    "for num in nums:\n",
    "    nums.append(num ** 2)\n",
    "print(nums)"
   ]
  },
  {
   "cell_type": "markdown",
   "metadata": {},
   "source": [
    "In cases where it is advantageous to access an object by index (such as when you are modifying it), this functionality can be mirrored by the `len()` function, which gets the length of the iterable object.\n",
    "\n",
    "Note: when applying a function, like `ord()`, to an iterable object, remember that Python has the built-in `map(<function_name>, <iterable_object>)` function, which is often more efficient for this action."
   ]
  },
  {
   "cell_type": "code",
   "execution_count": null,
   "metadata": {},
   "outputs": [],
   "source": [
    "nums = [2, 4, 6, 8, 10]\n",
    "for i in range(len(nums)):\n",
    "    nums[i] *= nums[i]\n",
    "print(nums)"
   ]
  },
  {
   "cell_type": "markdown",
   "metadata": {},
   "source": [
    "### Nested Loops"
   ]
  },
  {
   "cell_type": "markdown",
   "metadata": {},
   "source": [
    "A <i>nested</i> loop is when multiple conditional and/or iterative loops are combined in different blocks of code. This is often required for more complex functions or operations.\n",
    "\n",
    "In a nested loop, each higher level block or <i>outer loop</i> will execute once for each full iteration of its <i>inner loop</i>."
   ]
  },
  {
   "cell_type": "code",
   "execution_count": null,
   "metadata": {},
   "outputs": [],
   "source": [
    "adj = [\"sweet\", \"ripe\", \"tasty\"]\n",
    "fruits = [\"apple\", \"banana\", \"cherry\"]\n",
    "for i in adj:\n",
    "    for j in fruits:\n",
    "        print(i, j)"
   ]
  },
  {
   "cell_type": "markdown",
   "metadata": {},
   "source": [
    "## Lesson 2 - Functions\n",
    "\n",
    "### Declaration and Arguments\n",
    "\n",
    "<i>Functions</i> are variables whose value is Python code. The code is only execute when the function name, like `print`, is called.\n",
    "\n",
    "A programmer may define a function using the `def` keyword, followed by the function name and any <i>arguments</i>, which are wrapped by parenthesis, and a colon. The syntax for a function declaration is:\n",
    "<br>`def <function_name> (<arguments>*):`\n",
    "<br>&emsp;`\"\"\"Docstring\"\"\"`\n",
    "<br>&emsp;`function code to execute...`\n",
    "\n",
    "A function may have no arguments, one argument, a hundred variables, or a variable amount of arguments, as appropriate to the task it accomplishes. "
   ]
  },
  {
   "cell_type": "code",
   "execution_count": null,
   "metadata": {},
   "outputs": [],
   "source": [
    "# declaring a function with no arguments\n",
    "def foobar():\n",
    "    print(\"foo + bar = foobar\")"
   ]
  },
  {
   "cell_type": "markdown",
   "metadata": {},
   "source": [
    "To execute a function, simply call it by its `<function_name>(<arguments>*)`"
   ]
  },
  {
   "cell_type": "code",
   "execution_count": null,
   "metadata": {},
   "outputs": [],
   "source": [
    "# calling the declared function\n",
    "foobar()"
   ]
  },
  {
   "cell_type": "markdown",
   "metadata": {},
   "source": [
    "When passing <i>arguments</i> to a function, an argument is specified by a unique variable name that will be used within the function. When using multiple arguments, arguments are separated by commas. Syntax:\n",
    "<br>`def <function_name> (<arg1>, <arg2>, ..., <argn>):`\n",
    "<br>&emsp;`\"\"\"Docstring\"\"\"`\n",
    "<br>&emsp;`function code to execute...`\n",
    "\n",
    "An argument can be a literal, a list, or any other variable type. It will be treated as the same data type within the function."
   ]
  },
  {
   "cell_type": "code",
   "execution_count": null,
   "metadata": {},
   "outputs": [],
   "source": [
    "def foobar(foo, bar):\n",
    "    print(\"foobar =\", foo, bar)\n",
    "\n",
    "foo, bar = \"red\", \"orchestra\"\n",
    "foobar(foo, bar)\n",
    "\n",
    "def iterateThroughList(li):\n",
    "    for i in li:\n",
    "        print(i)\n",
    "\n",
    "listy = [1, 2, 3, 4]\n",
    "iterateThroughList(listy)"
   ]
  },
  {
   "cell_type": "markdown",
   "metadata": {},
   "source": [
    "Arguments can be assigned default values, making the <i>optional</i>. To assign a default value, use an equals sign (=) after the argument name and assign the default value.\n",
    "\n",
    "Default/optional values must be assigned last."
   ]
  },
  {
   "cell_type": "code",
   "execution_count": null,
   "metadata": {},
   "outputs": [],
   "source": [
    "# default/optional value example\n",
    "def my_func(source, dest, localhost=\"127.0.0.1\"):\n",
    "     print(\"I appreciate the source: {}, and I love the destination: {}, but there is no place like home: {}\".format(source, dest, localhost))\n",
    "\n",
    "my_func(\"8.8.8.8\", \"192.168.0.1\")"
   ]
  },
  {
   "cell_type": "markdown",
   "metadata": {},
   "source": [
    "When invoking a function, arguments can also be called by name."
   ]
  },
  {
   "cell_type": "code",
   "execution_count": null,
   "metadata": {},
   "outputs": [],
   "source": [
    "# invoking arguments by name\n",
    "def secret_func(x, y, z=50):\n",
    "    print(\"Your answer is\", x*y%z)\n",
    "\n",
    "secret_func(x = 4, y = 4, z = 16)"
   ]
  },
  {
   "cell_type": "markdown",
   "metadata": {},
   "source": [
    "Sometimes, it may be useful to define a function with an indeterminate number or arguments. In this case, use the syntax `*<arg_name>` to define an argument as (potentially) multiple arguments."
   ]
  },
  {
   "cell_type": "code",
   "execution_count": null,
   "metadata": {},
   "outputs": [],
   "source": [
    "# functions can also have a variable list of arguments by using *\n",
    "def addall(*args):\n",
    "    return sum(args)\n",
    "\n",
    "addall(5, 6, 4, 3)"
   ]
  },
  {
   "cell_type": "markdown",
   "metadata": {},
   "source": [
    "### Scope\n",
    "\n",
    "Variables inside a function only exist within the function. This is known as a variable's <i>scope</i>.\n",
    "\n",
    "Variables within a function are known as <i>local</i> variables, while variables outside of a function's scope (in main's scope) are known as <i>global</i> variables."
   ]
  },
  {
   "cell_type": "code",
   "execution_count": null,
   "metadata": {},
   "outputs": [],
   "source": [
    "# printing a function and global variable\n",
    "def inafunc():\n",
    "    a = 5\n",
    "    print(a)\n",
    "\n",
    "a = 10\n",
    "inafunc()\n",
    "print(a)"
   ]
  },
  {
   "cell_type": "markdown",
   "metadata": {},
   "source": [
    "Variables at a higher or global scope can be overwritten with the `global` keyword."
   ]
  },
  {
   "cell_type": "code",
   "execution_count": null,
   "metadata": {},
   "outputs": [],
   "source": [
    "# changing a global variable using the global keyword\n",
    "def inafunc():\n",
    "    global a \n",
    "    a = 5\n",
    "    print(a)\n",
    "\n",
    "a = 10\n",
    "inafunc()\n",
    "print(a)"
   ]
  },
  {
   "cell_type": "markdown",
   "metadata": {},
   "source": [
    "### The `return` Keyword\n",
    "\n",
    "Using the `global` keyword is often inappropriate or dangerous as <i>global</i> variables can cause bugs (which are often hidden, non-obvious, and hard to detect) and \"spaghetti\" (unreadable) code. \n",
    "\n",
    "The `return` keyword is used to cleanly get function/local variable or variables to a higher block of code (higher scope). It is always best-practice to return a variable instead of use the `global` keyword."
   ]
  },
  {
   "cell_type": "code",
   "execution_count": null,
   "metadata": {},
   "outputs": [],
   "source": [
    "# import will be covered next in Lesson 3 - Modules\n",
    "from math import pi\n",
    "def getArea(r):\n",
    "    return pi * r ** 2\n",
    "\n",
    "def myfunction(x):\n",
    "    return x * 5\n",
    "\n",
    "w, y, z = myfunction(3), myfunction(5), myfunction(9)\n",
    "print(w, y, z)\n",
    "\n",
    "pizzaVolumeSmall = getArea(12)\n",
    "pizzaVolumeMedium = getArea(14)\n",
    "pizzaVolumeLarge = getArea(18)\n",
    "print(\"A large, 18\\\" pizza is {:.2f} inches squared more pizza than a medium, 14\\\" pizza\".format(pizzaVolumeLarge-pizzaVolumeMedium))\n",
    "print(\"A medium, 14\\\" pizza is {:.2f} inches squared more pizza than a small, 12\\\" pizza\".format(pizzaVolumeMedium-pizzaVolumeSmall))\n",
    "print(\"A large, 18\\\" pizza is {:.2f} inches squared more pizza than small, 12\\\" pizza\".format(pizzaVolumeLarge-pizzaVolumeSmall))\n",
    "print(\"Always remember pizza volume when ordering pizza!\")"
   ]
  },
  {
   "cell_type": "code",
   "execution_count": null,
   "metadata": {},
   "outputs": [],
   "source": [
    "def return2vals():\n",
    "    return 5, 10\n",
    "a, b = return2vals()\n",
    "print(return2vals())\n",
    "c = a + b\n",
    "print(a, b, c)"
   ]
  },
  {
   "cell_type": "markdown",
   "metadata": {},
   "source": [
    "## Lesson 3 - Modules\n",
    "\n",
    "<i>Modules</i> are groups of reusable functions. \n",
    "\n",
    "Python has built-in and third-party modules, many of which are grouped together into packages.\n",
    "\n",
    "Note: to see an extensive list of third-party Python modules, look here: https://pypi.org\n",
    "\n",
    "Whether built-in or third-party, Python modules can be imported into a file or in Interactive mode using the `import` and `from` keywords.\n",
    "\n",
    "Used alone, the `import` command will import an entire module. To use the `import` command, use the syntax:\n",
    "`import <module_name>`\n",
    "\n",
    "When using `import`, different functions from the module must be referenced using: `<module_name>.<function_name>`"
   ]
  },
  {
   "cell_type": "code",
   "execution_count": null,
   "metadata": {},
   "outputs": [],
   "source": [
    "# example import\n",
    "import math\n",
    "# exponential\n",
    "print(math.pow(5,2))"
   ]
  },
  {
   "cell_type": "markdown",
   "metadata": {},
   "source": [
    "A specific function can be imported using the syntax: `from <module_name> import <function_name>`\n",
    "\n",
    "When importing a function this way, it can be directly referenced by name."
   ]
  },
  {
   "cell_type": "code",
   "execution_count": null,
   "metadata": {},
   "outputs": [],
   "source": [
    "# example from import: gcd - gets the greatest common divisor of two integers\n",
    "from math import gcd\n",
    "print(gcd(6, 24))"
   ]
  },
  {
   "cell_type": "markdown",
   "metadata": {},
   "source": [
    "If all functions from a library need to be imported, by name, use the syntax: `from <module_name> import *`\n",
    "\n",
    "When importing this way, all functions in a module can be directly referenced by name."
   ]
  },
  {
   "cell_type": "code",
   "execution_count": null,
   "metadata": {},
   "outputs": [],
   "source": [
    "from math import *\n",
    "print(pow(2, 3))"
   ]
  },
  {
   "cell_type": "markdown",
   "metadata": {},
   "source": [
    "### Built-in Modules"
   ]
  },
  {
   "cell_type": "markdown",
   "metadata": {},
   "source": [
    "Python has the following built-in modules:\n",
    "| Module Name | Description |\n",
    "| :-- | --- |\n",
    "| collections | Provides specialized dictionaries with modified behavior |\n",
    "| *hashlib | Used for hash functions (MD5, SHA1, etc.) |\n",
    "| http_server | Used to create a basic web server |\n",
    "| *pdb | Used for the Python debugger |\n",
    "| pip | Python's official package manager |\n",
    "| *re | Used for regular expressions |\n",
    "| subprocess | Start, stop, and interact with the OS and processes. Captures the output of those commands |\n",
    "| socket | Allows the receipt and transmission of packets across a network. Supports TCP/IP and UDP. |\n",
    "| sys | Used to process comand line variables and interact with the OS |\n",
    "| *urllib | Enables HTTP(S) web iteractions |\n",
    "\n",
    "\\* = not testable\n",
    "\n",
    "#### The `Collections` Module\n",
    "\n",
    "The `collections` module provides several, special purpose dictionaries:\n",
    "- `Defaultdict`: creates a dictionary that enables a default value for undefined keys\n",
    "- `Counter`: creates a dictionary that automatically counts the number of times a key is used (such as the number of times a word is used in a book)"
   ]
  },
  {
   "cell_type": "code",
   "execution_count": null,
   "metadata": {},
   "outputs": [],
   "source": [
    "# Counter example \n",
    "from collections import Counter\n",
    "word_count = Counter()\n",
    "word_count.update(open(\"mobydick.txt\").read().lower().split())\n",
    "print(word_count.most_common(10))\n",
    "print(word_count[\"was\"])\n",
    "word_count.update(['was', 'is', 'was', 'am'])\n",
    "print(word_count[\"was\"])\n",
    "word_count.subtract(['was', 'is', 'was', 'am'])\n",
    "print(word_count[\"was\"])"
   ]
  },
  {
   "cell_type": "markdown",
   "metadata": {},
   "source": [
    "#### Module Installation via `pip`\n",
    "\n",
    "`pip` is Python's official package manager.\n",
    "\n",
    "`pip` can be used to install packages in Python 3.4 or greater.\n",
    "\n",
    "`pip` is generally used in the following ways:\n",
    "- `pip install <requirements.txt>` - installs all modules in the given file (typically requirements.txt)\n",
    "- `pip install <package_name>` - installs the given module\n",
    "- `pip install --upgrade <package_name>` - upgrades an exiting module/package to the most current version"
   ]
  },
  {
   "cell_type": "markdown",
   "metadata": {},
   "source": [
    "### Importing Local Packages\n",
    "\n",
    "By default, a package will execute when it is imported."
   ]
  },
  {
   "cell_type": "code",
   "execution_count": null,
   "metadata": {},
   "outputs": [],
   "source": [
    "# Note: your shell must be in the same location as the file for\n",
    "# third-party modules\n",
    "import printy"
   ]
  },
  {
   "cell_type": "markdown",
   "metadata": {},
   "source": [
    "Usually, executing an imported file is not desirable. \n",
    "\n",
    "The <i>\\_\\_name\\_\\_</i> variable is used to tell the Python interpreter if a file is being imported or executed.\n",
    "\n",
    "The syntax: `if __name__ == \"__main__\"` should be included in a module so that it does not execute by default when imported. In using this syntax, then program will only run when directly invoked.\n",
    "\n",
    "Note: Python will only import modules once. If a module is modified within a script, use: `importlib.reload(<module_name>)` to update the module."
   ]
  },
  {
   "cell_type": "markdown",
   "metadata": {},
   "source": [
    "### Third-Party Modules\n",
    "\n",
    "Some popular third-party modules in Python include:\n",
    "\n",
    "| Package Name | Description |\n",
    "| --- | --- |\n",
    "| *Beautiful Soup | Parses HTML, XML, and other document types to extract information |\n",
    "| *Gmail | Enables interaction with Gmail |\n",
    "| *Impacket | Provides a suite of offensive capabilities including Windows Authentication modules, psexec, pass the hash, smb relay attackes, etc. |\n",
    "| *PExpect | Launches commands and interacts with them (allows for waits and reverse shells, like ssh) |\n",
    "| *Plaso | Log2Timeline forensics module with extendable plugins | \n",
    "| *Requests | Enables interactions with websites |\n",
    "| Scapy | Enables packet analysis and crafting |"
   ]
  },
  {
   "cell_type": "markdown",
   "metadata": {},
   "source": [
    "## Proper Script Structure"
   ]
  },
  {
   "cell_type": "markdown",
   "metadata": {},
   "source": [
    "Proper script structure ensures that a script will execute as expected. A properly structured script has the following order:\n",
    "- Import statements (if any)\n",
    "- Function declaration\n",
    "- `main()` function declaration\n",
    "- A check for the main function: `if __name__ == \"__main__\"`\n",
    "- Global variables\n",
    "- A call of `main()` to execute the script's code"
   ]
  },
  {
   "cell_type": "code",
   "execution_count": null,
   "metadata": {},
   "outputs": [],
   "source": [
    "# proper script structure\n",
    "#!/usr/bin/python -tt\n",
    "\n",
    "# Any relevant comments\n",
    "\n",
    "\"\"\"Docstring: used with the help() function to give other users\n",
    "information on the program, author, and how to use it.\"\"\"\n",
    "\n",
    "# Import Statements\n",
    "\n",
    "# Function Declaration \n",
    "def func(x, y):\n",
    "    \"\"\"Docstring\"\"\"\n",
    "    z = x * int( y + 3 )\n",
    "    return z\n",
    "\n",
    "# main() Function Declaration Last\n",
    "def main():\n",
    "    \"\"\"Docstring\"\"\"\n",
    "    global foo\n",
    "    global bar\n",
    "    if type(foo) != type(1) and type(foo) != type(1.0):\n",
    "        if type(foo) == type(\"\"):\n",
    "            foo = int(foo)\n",
    "        else:\n",
    "            foo = 23\n",
    "\n",
    "    if type(bar) != type(1) and type(bar) != type(1.0):\n",
    "        if type(bar) == type(\"\"):\n",
    "            bar = float(bar)\n",
    "        else:\n",
    "            bar = 77\n",
    "\n",
    "    print(func(foo, bar))\n",
    "\n",
    "# Check for main() \n",
    "if __name__ == \"__main__\":\n",
    "    # Global Variable Declaration\n",
    "    foo = 17\n",
    "    bar = \"3.93\"\n",
    "\n",
    "    # Call main()\n",
    "    main()"
   ]
  },
  {
   "cell_type": "markdown",
   "metadata": {},
   "source": [
    "## Day 2 Lab"
   ]
  },
  {
   "cell_type": "markdown",
   "metadata": {},
   "source": [
    "### Python Lab 2 - Part 1: Control Flow\n",
    "\n",
    "These exercises are meant to familiarize yourself with the topics discussed in class. There are no unit tests for Control Flow exercises.\n",
    "\n",
    "While exercises are not explicitly ordered based on level of difficulty, Exercises 7 and 8 are challenging and are more difficult than needed to complete this course. Students who cannot complete Exercises 7 and 8 should proceed to Part 2.\n",
    "\n",
    "Note: Please see the accompanying lab guide for expected output. Pseudocode is also provided in the accompanying lab guide for Part 2."
   ]
  },
  {
   "cell_type": "code",
   "execution_count": null,
   "metadata": {},
   "outputs": [],
   "source": [
    "### 1. Create a while loop that counts from 1-100 by 5s (prints each 5)\n",
    "\n",
    "def flow_control_ex_1():\n",
    "    pass\n",
    "\n",
    "print(\"Print flow_control_ex_1():\")\n",
    "flow_control_ex_1()"
   ]
  },
  {
   "cell_type": "code",
   "execution_count": null,
   "metadata": {},
   "outputs": [],
   "source": [
    "### 2. Using a for loop, iterate from 1 to 10. For each number, print whether it\n",
    "###    is odd or even\n",
    "\n",
    "def flow_control_ex_2():\n",
    "    pass\n",
    "\n",
    "print(\"Print flow_control_ex_2():\")\n",
    "flow_control_ex_2()"
   ]
  },
  {
   "cell_type": "code",
   "execution_count": null,
   "metadata": {},
   "outputs": [],
   "source": [
    "### 3. Define a list of your 5 favorite animals and 3 favorite adjectives. Using\n",
    "###    nested for loops, print each adjective and each animal (e.g. smelly lion,\n",
    "###    smelly bear... livacious lion, livacious bear...)\n",
    "\n",
    "def flow_control_ex_3():\n",
    "    pass\n",
    "\n",
    "print(\"Print flow_control_ex_3():\")\n",
    "flow_control_ex_3()"
   ]
  },
  {
   "cell_type": "code",
   "execution_count": null,
   "metadata": {},
   "outputs": [],
   "source": [
    "### 4. Create a dictionary of at least 5 key:value pairs. Each key should be a\n",
    "###    friend's name and each value should be a list of the friend's hobbys.\n",
    "###    Iterate through the dictionary and count the number of unique hobbies\n",
    "###    Note: this can be made more challenging if values are not all of the same data type\n",
    "\n",
    "def flow_control_ex_4():\n",
    "    pass\n",
    "\n",
    "print(\"Print flow_control_ex_4():\")\n",
    "flow_control_ex_4()"
   ]
  },
  {
   "cell_type": "code",
   "execution_count": null,
   "metadata": {},
   "outputs": [],
   "source": [
    "### 5. Create a match statement that identifies known ports (choose 5+ known ports)\n",
    "###    Nest the match statement in a for loop and print the port and protocol of\n",
    "###    each known port in the list\n",
    "def flow_control_ex_5():\n",
    "    pass\n",
    "\n",
    "print(\"Print flow_control_ex_5():\")\n",
    "flow_control_ex_5()"
   ]
  },
  {
   "cell_type": "code",
   "execution_count": null,
   "metadata": {},
   "outputs": [],
   "source": [
    "### 6. Using a for loop with the range operator, print all multiples of 9 between\n",
    "###    0 and 100.\n",
    "\n",
    "def flow_control_ex_6():\n",
    "    pass\n",
    "\n",
    "print(\"Print flow_control_ex_6():\")\n",
    "flow_control_ex_6()"
   ]
  },
  {
   "cell_type": "code",
   "execution_count": null,
   "metadata": {},
   "outputs": [],
   "source": [
    "### 7. Create a while loop that prints the first 20 numbers of the Fibonacci\n",
    "###    sequence. See here: https://en.wikipedia.org/wiki/Fibonacci_sequence\n",
    "def flow_control_ex_7():\n",
    "    pass\n",
    "\n",
    "print(\"Print flow_control_ex_7():\")\n",
    "flow_control_ex_7()"
   ]
  },
  {
   "cell_type": "code",
   "execution_count": null,
   "metadata": {},
   "outputs": [],
   "source": [
    "### 8. Using an if/elif/else statement, nested within a for loop, check if an\n",
    "###    input list of numbers is prime. If they are not prime, see if they are\n",
    "###    divisible by a prime number (under 29). If not, print that the number is\n",
    "###    not a prime nor is it divisible by a prime\n",
    "###    Hint 1: use the in keyword to see if an object is in a list\n",
    "###    Hint 2: this may require list comprehensions or a for loop to create a list\n",
    "###            to use the \"in\" check on\n",
    "def flow_control_ex_8():\n",
    "\n",
    "    nums_to_check = [3, 8, 12, 17, 19, 21, 23, ]\n",
    "    primes = [3, 5, 7, 11, 17, 23, 29]\n",
    "    pass\n",
    "\n",
    "print(\"Print flow_control_ex_8():\")\n",
    "flow_control_ex_8()"
   ]
  },
  {
   "cell_type": "markdown",
   "metadata": {},
   "source": [
    "### Unit Tests - Run The Cell Below Before Starting Part 2\n",
    "\n",
    "Note: The below contains \"Unit Tests\", which are provided to test each function in Lab 2, Part 2 (functions). While this course does not cover test driven development, the purpose of unit tests is to validate that code executes as expected. Each unit test will check for one or more expected pieces of functionality."
   ]
  },
  {
   "cell_type": "code",
   "execution_count": null,
   "metadata": {},
   "outputs": [],
   "source": [
    "import unittest\n",
    "from math import pi\n",
    "import random\n",
    "import inspect\n",
    "import re\n",
    "\n",
    "class TestLab(unittest.TestCase):\n",
    "\n",
    "    def test_rad_to_deg(self):\n",
    "\n",
    "        with self.subTest(\"Between 0 and 2*pi tests\"):\n",
    "            rads = [0, 1, pi, 3/2*pi, 2*pi]\n",
    "            for r in rads:\n",
    "                expected, actual = round(r*180/pi, 16), round(rad_to_deg(r), 16)\n",
    "                self.assertEqual(expected, actual,\n",
    "                                 msg=\"Checking if {} and {} are equal\".format(expected, actual))\n",
    "\n",
    "        print(\"Passed between 0 and 2 * pi sub tests\")\n",
    "        \n",
    "        with self.subTest(\"Greater than 2*pi test\"):\n",
    "            r = 3*pi\n",
    "            self.assertEqual(round(pi*180/pi, 16),\n",
    "                             round(rad_to_deg(r), 16))\n",
    "\n",
    "        print(\"Passed greater than 2 * pi sub test\")\n",
    "\n",
    "        with self.subTest(\"Less than 2*pi test\"):\n",
    "            r = -pi\n",
    "            self.assertEqual(round(pi*180/pi, 16),\n",
    "                             round(rad_to_deg(r), 16))\n",
    "\n",
    "        print(\"Passed less than 2 * pi sub test\")\n",
    "\n",
    "        print(\"\\nCongratulations, your function passed all tests!\")\n",
    "\n",
    "    def test_sort_list(self):\n",
    "\n",
    "        li = [random.randint(1, 100) for _ in range(10)]\n",
    "        li_asc, li_dsc = li.copy(), li.copy()\n",
    "\n",
    "        li_asc.sort()\n",
    "        li_dsc.sort(reverse=True)\n",
    "        \n",
    "        with self.subTest(\"Test 'asc'\"):\n",
    "            self.assertEqual(li_asc, sort_list(li.copy(), 'asc'))\n",
    "\n",
    "        print(\"Passed 'asc' order sub test\")\n",
    "\n",
    "        with self.subTest(\"Test 'desc'\"):\n",
    "            self.assertEqual(li_dsc, sort_list(li.copy(), 'desc'))\n",
    "\n",
    "        print(\"Passed 'desc' order sub test\")\n",
    "\n",
    "        with self.subTest(\"Test order=None\"):\n",
    "            self.assertEqual(li, sort_list(li))\n",
    "\n",
    "        print(\"Passed 'None' order sub test\")\n",
    "\n",
    "        print(\"\\nCongratulations, your function passed all tests!\")\n",
    "\n",
    "    def test_dec_to_bin(self):\n",
    "\n",
    "        nums = [random.randint(1, 1024) for _ in range(10)]\n",
    "        bin_nums = list(map(bin, nums))\n",
    "        # removes 0b from each string\n",
    "        bin_nums = [b[2:] for b in bin_nums]\n",
    "\n",
    "        bin_nums2 = list(map(dec_to_bin, nums))\n",
    "        self.assertEqual(bin_nums, bin_nums2)\n",
    "\n",
    "        print(\"Congratulations, your function passed all tests!\")\n",
    "\n",
    "    def test_count_vowels(self):\n",
    "\n",
    "        strings = [\"Hello world\", 'This is a test of the Giant Voice System, this is only a test',\n",
    "                   \"Octothorp\", \"test\", \"xylophone\", \"the cake is a lie\"]\n",
    "        vowel_nums = [3, 17, 3, 1, 3, 7]\n",
    "        vowel_nums2 = list(map(count_vowels, strings))\n",
    "\n",
    "        self.assertEqual(vowel_nums, vowel_nums2)\n",
    "\n",
    "        print(\"Congratulations, your function passed all tests!\")\n",
    "\n",
    "    def test_hide_credit_card_number(self):\n",
    "        cc_num = \"\".join([str(random.randint(0, 9)) for _ in range(16)])\n",
    "        cc_num_hidden = '*' * 12 + cc_num[12:]\n",
    "        \n",
    "        self.assertEqual(cc_num_hidden, hide_credit_card_number(cc_num))\n",
    "\n",
    "        print(\"Congratulations, your function passed all tests!\")\n",
    "\n",
    "    def test_x_to_o(self):\n",
    "        words = [\"Oxen\", \"Xylophone\", \"extra\", \"amazing\"]\n",
    "        expected = [True, False, False, True]\n",
    "        out = list(map(x_to_o, words))\n",
    "\n",
    "        self.assertEqual(expected, out)\n",
    "\n",
    "        print(\"Congratulations, your function passed all tests!\")\n",
    "\n",
    "    def test_simple_calc(self):\n",
    "        nums = [random.randint(1, 100) for _ in range(2)]\n",
    "\n",
    "        with self.subTest(\"Test addition\"):\n",
    "            self.assertEqual(nums[0] + nums[1], simple_calc(nums[0], '+', nums[1]))\n",
    "\n",
    "        print(\"Passed addition sub test\")\n",
    "        \n",
    "        with self.subTest(\"Test subtraction\"):\n",
    "            self.assertEqual(nums[0] - nums[1], simple_calc(nums[0], '-', nums[1]))\n",
    "\n",
    "        print(\"Passed subtraction sub test\")\n",
    "        \n",
    "        with self.subTest(\"Test multiplication\"):\n",
    "            self.assertEqual(nums[0] * nums[1], simple_calc(nums[0], '*', nums[1]))\n",
    "\n",
    "        print(\"Passed multiplication sub test\")\n",
    "        \n",
    "        with self.subTest(\"Test division\"):\n",
    "            self.assertEqual(int(nums[0] / nums[1]), simple_calc(nums[0], '/', nums[1]))\n",
    "\n",
    "        print(\"Congratulations, your function passed all tests!\")\n",
    "\n",
    "    def test_discount_price(self):\n",
    "        prices = [random.randint(1, 1000) + random.random() for _ in range(10)]\n",
    "        discounts = [round(random.random(), 2) for _ in range(10)]\n",
    "        discount_ints = [int(discounts[i] * 100) for i in range(10)]\n",
    "\n",
    "        expected = []\n",
    "        for i in range(len(prices)):\n",
    "            expected += [round(prices[i] - prices[i] * discounts[i], 2)]\n",
    "        \n",
    "        output = list(map(discount_price, prices, discount_ints))\n",
    "\n",
    "        self.assertEqual(expected, output)\n",
    "\n",
    "        print(\"Congratulations, your function passed all tests!\")\n",
    "\n",
    "    def test_just_the_numbers(self):\n",
    "        # should generate an equal number of numbers and characters\n",
    "        choices = [i for i in range(0, 26)] + [chr(i) for i in range(65, 91)]\n",
    "        li = [random.choice(choices) for _ in range(10)]\n",
    "        expected = list(filter(lambda x: type(x) == type(1), li))\n",
    "        output = just_the_numbers(li)\n",
    "\n",
    "        self.assertEqual(expected, output)\n",
    "\n",
    "        print(\"Congratulations, your function passed all tests!\")\n",
    "\n",
    "    def test_repeat_each_character(self):\n",
    "        strings = ['stringy', 'bools', 'Python Rocks!', 'wow']\n",
    "        expected = []\n",
    "        for s in strings:\n",
    "            expected += [\"\".join([2*c for c in s])]\n",
    "        output = list(map(repeat_each_character, strings))\n",
    "\n",
    "        self.assertEqual(expected, output)\n",
    "\n",
    "        print(\"Congratulations, your function passed all tests!\")\n",
    "\n",
    "    def test_check_if_palindrome(self):\n",
    "        palindromes = ['racecar', 'madam', 'kayak', 'Civic', 'radar', 'rotor', 'Anna', 'noon']\n",
    "        not_palindromes = ['revolver', 'Chair', 'Good', 'ads', 'Greek']\n",
    "        long_palindromes = ['nurses run', 'go deliver a dare vile dog', 'taco cat',\n",
    "                            \"Cigar? Toss it in a can. It is so tragic.\"]\n",
    "\n",
    "        with self.subTest(\"Check short palindromes (no whitespace or punctuation)\"):\n",
    "            expected = [True] * 8\n",
    "            output = list(map(check_if_palindrome, palindromes))\n",
    "            self.assertEqual(expected, output)\n",
    "\n",
    "        print(\"Passed short palindromes (no whitespace or punctuation) sub tests\")\n",
    "\n",
    "        with self.subTest(\"Check not palindromes\"):\n",
    "            expected = [False] * 5\n",
    "            output = list(map(check_if_palindrome, not_palindromes))\n",
    "            self.assertEqual(expected, output)\n",
    "\n",
    "        print(\"Passed not palindromes sub tests\")\n",
    "\n",
    "        with self.subTest(\"Check long palindrones (with whitespace and/or punctuation\"):\n",
    "            expected = [True] * 4\n",
    "            output = list(map(check_if_palindrome, long_palindromes))\n",
    "            self.assertEqual(expected, output)\n",
    "\n",
    "        print(\"Passed long palindromes (with whitespace and/or punctuation) sub tests\")\n",
    "\n",
    "        print(\"\\nCongratulations, your function passed all tests!\")\n",
    "\n",
    "    def test_compound_interest(self):\n",
    "        expected = 642887.27\n",
    "        output = compound_interest(10000, 500, 7, 30)\n",
    "        self.assertEqual(expected, output)\n",
    "\n",
    "        print(\"Congratulations, your function passed all tests!\")\n",
    "    \n",
    "    def test_withdrawal(self):\n",
    "        balance = 1000.0\n",
    "        \n",
    "        with self.subTest(\"Successful withdrawal test\"):\n",
    "            withdrawal_amount = 250.2\n",
    "            expected = str('%.2f' % (balance - withdrawal_amount))\n",
    "            actual = withdrawal(balance, withdrawal_amount)\n",
    "            self.assertEqual(expected, actual)\n",
    "\n",
    "        print(\"Passed successful withdrawal sub test\")\n",
    "\n",
    "        with self.subTest(\"Withdrawal full balance test\"):\n",
    "            withdrawal_amount = 1000.0\n",
    "            expected = \"This is all your money!\"\n",
    "            actual = withdrawal(balance, withdrawal_amount)\n",
    "            self.assertEqual(expected, actual)\n",
    "\n",
    "        print(\"Passed full balance withdrawal sub test\")\n",
    "\n",
    "        with self.subTest(\"Withdrawal fail test\"):\n",
    "            withdrawal_amount = 1000.5\n",
    "            expected = \"Insufficient funds\"\n",
    "            actual = withdrawal(balance, withdrawal_amount)\n",
    "            self.assertEqual(expected, actual)\n",
    "\n",
    "        print(\"Passed withdrawal failure sub test\")\n",
    "\n",
    "        print(\"\\nCongratulations, your function passed all tests!\")\n",
    "\n",
    "    def test_product_is_even(self):\n",
    "        with self.subTest(\"Product is even\"):\n",
    "            expected = True\n",
    "            actual = product_is_even(7, 2)\n",
    "            self.assertEqual(expected, actual)\n",
    "\n",
    "        print(\"Passed product is even sub test\")\n",
    "        \n",
    "        with self.subTest(\"Product is odd\"):\n",
    "            expected = False\n",
    "            actual = product_is_even(7, 3)\n",
    "            self.assertEqual(expected, actual)\n",
    "\n",
    "        print(\"Passed product is odd sub test\")\n",
    "\n",
    "        with self.subTest(\"Product is zero\"):\n",
    "            expected = True\n",
    "            actual = product_is_even(7, 0)\n",
    "            self.assertEqual(expected, actual)\n",
    "        \n",
    "        print(\"Passed product zero sub test\")\n",
    "\n",
    "        print(\"\\nCongratulations, your function passed all tests!\")\n",
    "\n",
    "    def test_reverse_squared(self):\n",
    "        \n",
    "        with self.subTest(\"Does not contain .reverse()\"):\n",
    "            code = inspect.getsource(reverse_squared)\n",
    "            actual = re.search(r'[a-zA-Z]+\\.reverse()', code)\n",
    "            self.assertFalse(actual)\n",
    "\n",
    "        print(\"Passed 'does not contain .reverse()' sub test\")\n",
    "\n",
    "        with self.subTest(\"Generic list reversal test\"):\n",
    "            example_input = [\"hello\", \"yes\", \"goodbyes\"]\n",
    "            expected = [\"seybdoog\", \"sey\", \"olleh\"]\n",
    "            actual = reverse_squared(example_input)\n",
    "            self.assertListEqual(expected, actual)\n",
    "\n",
    "        print(\"Passed reverse squared sub test\")\n",
    "        \n",
    "        with self.subTest(\"Empty list reversal test\"):\n",
    "            example_input = []\n",
    "            actual = reverse_squared(example_input)\n",
    "            self.assertFalse(actual)\n",
    "\n",
    "        print(\"Passed empty list sub test\")        \n",
    "\n",
    "        print(\"\\nCongratulations, your function passed all tests!\")\n",
    "\n",
    "    def test_mult_tables(self):\n",
    "        x = 3\n",
    "        y = 5\n",
    "        actual = mult_table(x, y)\n",
    "        for i in range(1, x+1):\n",
    "            for j in range(1, y+1):\n",
    "                with self.subTest(i*j):\n",
    "                    self.assertEqual(i*j, actual[i-1][j-1])\n",
    "\n",
    "        print(\"\\nCongratulations, your function passed all tests!\")\n",
    "\n",
    "    def test_circle_area(self):\n",
    "        areas = [1, 3, pi, 10]\n",
    "        expected = [round(pi, 16), round(9*pi, 16), round(pi**3, 16),\n",
    "                    round(100*pi, 16)]\n",
    "        actual = list(map(circle_area, areas))\n",
    "\n",
    "        self.assertEqual(expected, actual)\n",
    "\n",
    "        print(\"Congratulations, your function passed all tests!\")\n",
    "\n",
    "# Uncomment the two lines below to test all questions\n",
    "# if __name__ == \"__main__\":\n",
    "#    unittest.main(argv=[''], verbosity=2, exit=False)\n",
    "\n",
    "tester = TestLab()"
   ]
  },
  {
   "cell_type": "markdown",
   "metadata": {},
   "source": [
    "### Python Lab 2 - Part 2: Functions\n",
    "\n",
    "These exercises are meant to familiarize yourself with the topics discussed in class.\n",
    "\n",
    "While exercises are not explicitly ordered based on level of difficulty, Exercises 10, 11, 14, and 15 are more difficult. Students who cannot complete Exercises 10, 11, 14, and 15 can consider this lab complete if all other exercises are attempted.\n",
    "\n",
    "Note: Pseudocode for the below exercises are provided in the accompanying lab document. "
   ]
  },
  {
   "cell_type": "markdown",
   "metadata": {},
   "source": [
    "#### Example - Circle Area\n",
    "\n",
    "The below demonstrates how to use the autograder using a function that calculates the area of a circle.\n",
    "\n",
    "Note: Error Checking is covered in depth on Day 3. Knowledge of Error Checking and Unit Tests is not required to complete this lab."
   ]
  },
  {
   "cell_type": "code",
   "execution_count": null,
   "metadata": {},
   "outputs": [],
   "source": [
    "### 1. Convert Circle Area. Function inputs and outputs defined in the\n",
    "###    docstring.\n",
    "###    Note: A circle's area is pi * radius ** 2\n",
    "from math import pi\n",
    "def circle_area(radius):\n",
    "    \"\"\" Calculates the area of a circle with radius \"radius\"\n",
    "\n",
    "    Args:\n",
    "        radius (float): radius of the circle\n",
    "\n",
    "    Output:\n",
    "        area (float): area of the circle\n",
    "    \"\"\"\n",
    "    area = pi * radius ** 2\n",
    "    return round(area, 16)\n",
    "\n",
    "# checks to see if the function is defined. If defined, runs the subordinate\n",
    "# block of code\n",
    "if circle_area(1):\n",
    "    print(\"The area of a circle of radius {} is {}\".format(1, \n",
    "           circle_area(1)))\n",
    "    print(\"The area of a circle of radius {} is {}\".format(3, \n",
    "           circle_area(2)))\n",
    "    print(\"The area of a circle of radius {} is {}\".format(14, \n",
    "           circle_area(14)))"
   ]
  },
  {
   "cell_type": "code",
   "execution_count": null,
   "metadata": {},
   "outputs": [],
   "source": [
    "# Unit Tests - Circle Area\n",
    "\n",
    "# Trys to calculate the area of the a circle\n",
    "try:\n",
    "    # Checks to see if the function exists and returns something not None\n",
    "    if circle_area(1):\n",
    "        # Calls the tester\n",
    "        tester.test_circle_area()\n",
    "    else:\n",
    "        print(\"Error: circle_area()) returns 'None'\")\n",
    "\n",
    "# Pulls out the exception, e, if it exists\n",
    "except Exception as e:\n",
    "    print(\"Error: circle_area() is undefined or some other error occured.\")\n",
    "    # If there is an exception, print the relevant error message\n",
    "    if e:\n",
    "        print(\"Error message:\", e)"
   ]
  },
  {
   "cell_type": "markdown",
   "metadata": {},
   "source": [
    "#### Radians to Degrees"
   ]
  },
  {
   "cell_type": "code",
   "execution_count": null,
   "metadata": {},
   "outputs": [],
   "source": [
    "### 1. Convert Radians to Degrees. Function inputs and outputs defined in the\n",
    "###    docstring.\n",
    "###    Note: pi radians = 180 degrees\n",
    "from math import pi\n",
    "def rad_to_deg(rads)->float:\n",
    "    \"\"\" Converts radians to degrees\n",
    "\n",
    "    Args:\n",
    "        rads (float): radians\n",
    "\n",
    "    Output:\n",
    "        degs (float): degrees\n",
    "    \"\"\"\n",
    "    pass\n",
    "\n",
    "# Exercise 1 - Radians to Degrees - provided example inputs that provide output\n",
    "if rad_to_deg(pi):\n",
    "    print(\"Test rad_to_deg():\")\n",
    "    print(rad_to_deg(pi/3))\n",
    "    print(rad_to_deg(pi/2))\n",
    "    print(rad_to_deg(3*pi))\n",
    "    print(rad_to_deg(pi))"
   ]
  },
  {
   "cell_type": "code",
   "execution_count": null,
   "metadata": {},
   "outputs": [],
   "source": [
    "# Unit Tests - Rad to Degrees\n",
    "try:\n",
    "    if rad_to_deg(pi/2):\n",
    "        tester.test_rad_to_deg()\n",
    "    else:\n",
    "        print(\"Error: rad_to_deg()) returns 'None'\")\n",
    "except Exception as e:\n",
    "    print(\"Error: rad_to_deg() is undefined or some other error occured.\")\n",
    "    if e:\n",
    "        print(\"Error message:\", e)"
   ]
  },
  {
   "cell_type": "markdown",
   "metadata": {},
   "source": [
    "#### Sort List"
   ]
  },
  {
   "cell_type": "code",
   "execution_count": null,
   "metadata": {},
   "outputs": [],
   "source": [
    "### 2. Sort List. Function inputs and outputs defined in the docstring\n",
    "\n",
    "def sort_list(li, order=None)->list:\n",
    "    \"\"\" Sorts a list of numbers in either descending or ascending order, as\n",
    "        specified. If the order is not specified, return the list unsorted.\n",
    "\n",
    "    Args:\n",
    "        li (list): list of numbers to sort\n",
    "        order (str): \"asc\" for ascending, \"desc\" for descending\n",
    "\n",
    "    Output:\n",
    "        li (list): sorted list\n",
    "    \"\"\"\n",
    "\n",
    "    pass\n",
    "\n",
    "# Exercise 2 - Sort List - provided example inputs that provide output\n",
    "li = [17, 23, 1, 2, 66, 88, 6]\n",
    "if sort_list(li.copy(), \"asc\"):\n",
    "    print(\"Test sort_list():\")\n",
    "    print(sort_list(li.copy(), \"asc\"))\n",
    "    print(sort_list(li.copy(), \"desc\"))\n",
    "    print(sort_list(li.copy()))"
   ]
  },
  {
   "cell_type": "code",
   "execution_count": null,
   "metadata": {},
   "outputs": [],
   "source": [
    "# Unit Tests - Sort List\n",
    "try:\n",
    "    li = [17, 23, 1, 2, 66, 88, 6]\n",
    "\n",
    "    if sort_list(li.copy(), \"asc\"):\n",
    "        tester.test_sort_list()\n",
    "    else:\n",
    "        print(\"Error: sort_list() returns 'None'\")\n",
    "except Exception as e:\n",
    "    print(\"Error: sort_list() is undefined or some other error occured.\")\n",
    "    if e:\n",
    "        print(\"Error message:\", e)"
   ]
  },
  {
   "cell_type": "markdown",
   "metadata": {},
   "source": [
    "#### Decimal to Binary"
   ]
  },
  {
   "cell_type": "code",
   "execution_count": null,
   "metadata": {},
   "outputs": [],
   "source": [
    "### 3. Decimal to Binary. Without using the bin() function, covert a decimal number\n",
    "###    to binary string format. Assume num <= 1024\n",
    "\n",
    "def dec_to_bin(num)->str:\n",
    "    \"\"\" Converts a decimal number (<= 1024) to a binary string representation.\n",
    "    Note: do not use the bin() function!\n",
    "\n",
    "    Args:\n",
    "        num (int): list of numbers to sort\n",
    "\n",
    "    Output:\n",
    "        b (str): binary string represenation of num\n",
    "    \"\"\"\n",
    "\n",
    "    pass\n",
    "\n",
    "# 3 - Decimal to Binary - provided example inputs that provide output\n",
    "if dec_to_bin(1024):\n",
    "    print(\"test dec_to_bin():\")\n",
    "    print(dec_to_bin(1024))\n",
    "    print(dec_to_bin(128))\n",
    "    print(dec_to_bin(24))\n",
    "    print(dec_to_bin(4))"
   ]
  },
  {
   "cell_type": "code",
   "execution_count": null,
   "metadata": {},
   "outputs": [],
   "source": [
    "# Unit Tests - Decimal to Binary\n",
    "try:\n",
    "    if dec_to_bin(1024):\n",
    "        tester.test_dec_to_bin()\n",
    "    else:\n",
    "        print(\"Error: dec_to_bin() returns 'None'\")\n",
    "except Exception as e:\n",
    "    print(\"Error: dec_to_bin() is undefined or some other error occured.\")\n",
    "    if e:\n",
    "        print(\"Error message:\", e)"
   ]
  },
  {
   "cell_type": "markdown",
   "metadata": {},
   "source": [
    "#### Count Vowels"
   ]
  },
  {
   "cell_type": "code",
   "execution_count": null,
   "metadata": {},
   "outputs": [],
   "source": [
    "### 4. Count Vowels: Count the number of vowels in an input string\n",
    "\n",
    "def count_vowels(string)->int:\n",
    "    \"\"\" Counts the number of vowels in an input string\n",
    "\n",
    "    Args:\n",
    "        string (str): string to count values\n",
    "\n",
    "    Output:\n",
    "        vowelCount (int): the number of vowels in the string\n",
    "    \"\"\"\n",
    "    \n",
    "    pass\n",
    "\n",
    "# 4 - Count Vowels - provided example inputs that provide output\n",
    "if count_vowels(\"Hello world\"):\n",
    "    print(\"Test count_vowels():\")\n",
    "    print(\"'Hello world' has {} vowels\".format(count_vowels(\"Hello world\")))\n",
    "    print(\"'This is a test of the Giant Voice System, this is only a test' has {} vowels\".format(\n",
    "        count_vowels(\"This is a test of the Giant Voice System, this is only a test\")))\n",
    "    print(\"'Octothorp' has {} vowels\".format(count_vowels(\"Octothorp\")))"
   ]
  },
  {
   "cell_type": "code",
   "execution_count": null,
   "metadata": {},
   "outputs": [],
   "source": [
    "# Unit Tests - count_vowels()\n",
    "try:\n",
    "    if count_vowels(\"Hello world\"):\n",
    "\n",
    "        tester.test_count_vowels()\n",
    "    else:\n",
    "        print(\"Error: count_vowels() returns 'None'\")\n",
    "except Exception as e:\n",
    "    print(\"Error: count_vowels() is undefined or some other error occured.\")\n",
    "    if e:\n",
    "        print(\"Error message:\", e)"
   ]
  },
  {
   "cell_type": "markdown",
   "metadata": {},
   "source": [
    "#### Hide Credit Card Number"
   ]
  },
  {
   "cell_type": "code",
   "execution_count": null,
   "metadata": {},
   "outputs": [],
   "source": [
    "### 5. Hide Credit Card Number: Return a string with all but the last four numbers\n",
    "###    in a valid credit card number (<16 characters) hidden\n",
    "\n",
    "def hide_credit_card_number(ccNum)->str:\n",
    "    \"\"\" Returns a string with all characters in a cc number hidden with an *\n",
    "        except for the last four numbers\n",
    "\n",
    "    Args:\n",
    "        ccNum (str): credit card number\n",
    "\n",
    "    Output:\n",
    "        hiddenCCNum (str): cc number with all except the last 4 hidden\n",
    "    \"\"\"\n",
    "\n",
    "    pass\n",
    "\n",
    "# 5 - Hide Credit Card Number - provided example inputs that provide output\n",
    "if hide_credit_card_number(\"1234123412341234\"):\n",
    "    print(\"test hide_credit_card_number():\")\n",
    "    print(hide_credit_card_number(\"1234123412341234\"))\n",
    "    print()"
   ]
  },
  {
   "cell_type": "code",
   "execution_count": null,
   "metadata": {},
   "outputs": [],
   "source": [
    "# Unit Tests - hide_credit_card_number()\n",
    "try:\n",
    "    if hide_credit_card_number(\"1234123412341234\"):\n",
    "\n",
    "        tester.test_hide_credit_card_number()\n",
    "    else:\n",
    "        print(\"Error: hide_credit_card_number() returns 'None'\")\n",
    "\n",
    "except Exception as e:\n",
    "    print(\"Error:  hide_credit_card_number() is undefined or some other error occured.\")\n",
    "    if e:\n",
    "        print(\"Error message:\", e)"
   ]
  },
  {
   "cell_type": "markdown",
   "metadata": {},
   "source": [
    "#### X's and O's"
   ]
  },
  {
   "cell_type": "code",
   "execution_count": null,
   "metadata": {},
   "outputs": [],
   "source": [
    "### 6. X's and O's: Counts the number of x's and o's in a string and returns true\n",
    "###    if they are equal\n",
    "\n",
    "def x_to_o(string)->bool:\n",
    "    \"\"\" Returns True if the number of x's in a string are equal to the number of o's\n",
    "\n",
    "    Args:\n",
    "        string (str): input string\n",
    "\n",
    "    Output:\n",
    "        equivalent (bool): True if the number of x's is equal to the number of o's\n",
    "    \"\"\"\n",
    "\n",
    "    pass\n",
    "\n",
    " # 6 - X to O's - provided example inputs that provide output\n",
    "if not x_to_o(\"Xylophone\"):\n",
    "    print(\"test x_to_o():\")\n",
    "    print(\"Output using 'Oxen': {}\".format(x_to_o(\"Oxen\")))\n",
    "    print(\"Output using 'Xylophone': {}\".format(x_to_o(\"Xylophone\")))\n",
    "    print(\"Output using 'Extra': {}\".format(x_to_o(\"Extra\")))\n",
    "    print(\"Output using 'Amazing': {}\".format(x_to_o(\"Amazing\")))\n",
    "    print()"
   ]
  },
  {
   "cell_type": "code",
   "execution_count": null,
   "metadata": {},
   "outputs": [],
   "source": [
    "# Unit Tests - X's to O's\n",
    "try:\n",
    "    if not x_to_o(\"Xylophone\"):\n",
    "        tester.test_x_to_o()\n",
    "    else:\n",
    "        print(\"Error: x_to_o() returns 'None'\")\n",
    "\n",
    "except Exception as e:\n",
    "    print(\"Error: x_to_o() is undefined or some other error occured.\")\n",
    "    if e:\n",
    "        print(\"Error message:\", e)"
   ]
  },
  {
   "cell_type": "markdown",
   "metadata": {},
   "source": [
    "#### Simple Calc"
   ]
  },
  {
   "cell_type": "code",
   "execution_count": null,
   "metadata": {},
   "outputs": [],
   "source": [
    "### 7. Simple Calc: Performs basic arithmetic (+, -, *, /) between two integers\n",
    "\n",
    "def simple_calc(num1, operator, num2)->int:\n",
    "    \"\"\" Outputs the results of num1 operator num2\n",
    "\n",
    "    Args:\n",
    "        num1 (int): first integer\n",
    "        operator (string): +, -, /, or *\n",
    "        num2 (int): second integer\n",
    "\n",
    "    Output:\n",
    "        res (int): result of num1 operator num2\n",
    "    \"\"\"\n",
    "\n",
    "    pass\n",
    "\n",
    "# 7 - Simple Calc - provided example inputs that provide output\n",
    "if simple_calc(4, \"-\", 2):\n",
    "    print(\"test simple_calc():\")\n",
    "    print(simple_calc(4, \"-\", 2))\n",
    "    print()"
   ]
  },
  {
   "cell_type": "code",
   "execution_count": null,
   "metadata": {},
   "outputs": [],
   "source": [
    "# Unit Tests - Simple Calc\n",
    "try:\n",
    "    if simple_calc(4, \"-\", 2):\n",
    "\n",
    "        tester.test_simple_calc()\n",
    "    else:\n",
    "        print(\"Error: simple_calc() returns 'None'\")\n",
    "except Exception as e:\n",
    "    print(\"Error: simple_calc() is undefined or some other error occured.\")\n",
    "    if e:\n",
    "        print(\"Error message:\", e)"
   ]
  },
  {
   "cell_type": "markdown",
   "metadata": {},
   "source": [
    "#### Discount Price"
   ]
  },
  {
   "cell_type": "code",
   "execution_count": null,
   "metadata": {},
   "outputs": [],
   "source": [
    "### 8. Discount Price: Returns an item's new price when a discount is applied\n",
    "\n",
    "def discount_price(price, discount)->float:\n",
    "    \"\"\" Given a price and a discount (percentage), outputs the discount price\n",
    "\n",
    "    Args:\n",
    "        price (float): price of the item\n",
    "        discount (int): discount percentage\n",
    "\n",
    "    Output:\n",
    "        discount_price (float): discount price\n",
    "    \"\"\"\n",
    "\n",
    "    pass\n",
    "\n",
    "# 8 - Discount Price - provided example inputs that provide output\n",
    "if discount_price(99.99, 10):\n",
    "    print(\"test discount_price():\")\n",
    "    print(\"The 10% discount price for a $99.99 item is: $\", discount_price(99.99, 10), sep='')\n",
    "    print(\"The 20% discount price for a $99.99 item is: $\", discount_price(99.99, 20), sep='')\n",
    "    print(\"The 50% discount price for a $99.99 item is: $\", discount_price(99.99, 50), sep='')"
   ]
  },
  {
   "cell_type": "code",
   "execution_count": null,
   "metadata": {},
   "outputs": [],
   "source": [
    "# Unit Tests - Discount Price\n",
    "try:\n",
    "    if discount_price(99.99, 10):\n",
    "\n",
    "        tester.test_discount_price()\n",
    "    else:\n",
    "        print(\"Error: discount_price() returns 'None'\")\n",
    "except Exception as e:\n",
    "    print(\"Error: discount_price() is undefined or some other error occured.\")\n",
    "    if e:\n",
    "        print(\"Error message:\", e)"
   ]
  },
  {
   "cell_type": "markdown",
   "metadata": {},
   "source": [
    "#### Just The Numbers"
   ]
  },
  {
   "cell_type": "code",
   "execution_count": null,
   "metadata": {},
   "outputs": [],
   "source": [
    "### 9. Just the Numbers: Removes all non-integers from a list\n",
    "\n",
    "def just_the_numbers(li)->list:\n",
    "    \"\"\" Given a list of strings and numbers, return a list of just the numbers\n",
    "        in the original order.\n",
    "\n",
    "    Args:\n",
    "        li (list): list of strings and numbers\n",
    "\n",
    "    Output:\n",
    "        num_list (list): list of numbers from li\n",
    "    \"\"\"\n",
    "\n",
    "    pass\n",
    "\n",
    " # 9 - Just the Numbers - provided example inputs that provide output\n",
    "test_list = [\"string\", 4, \"yahoo\", 5, \"google\", 17, \"Eureka\", 2]\n",
    "if just_the_numbers(test_list):\n",
    "    print(\"test just_the_numbers():\")\n",
    "    print(just_the_numbers(test_list))"
   ]
  },
  {
   "cell_type": "code",
   "execution_count": null,
   "metadata": {},
   "outputs": [],
   "source": [
    "# Unit Tests - just_the_numbers()\n",
    "try:\n",
    "    test_list = [\"string\", 4, \"yahoo\", 5, \"google\", 17, \"Eureka\", 2]\n",
    "    if just_the_numbers(test_list):\n",
    "\n",
    "        tester.test_just_the_numbers()\n",
    "    else:\n",
    "        print(\"Error: just_the_numbers() returns 'None'\")\n",
    "except Exception as e:\n",
    "    print(\"Error: just_the_numbers() is undefined or some other error occured.\")\n",
    "    if e:\n",
    "        print(\"Error message:\", e)"
   ]
  },
  {
   "cell_type": "markdown",
   "metadata": {},
   "source": [
    "#### Repeat Each Character"
   ]
  },
  {
   "cell_type": "code",
   "execution_count": null,
   "metadata": {},
   "outputs": [],
   "source": [
    "### 10. Repeat Each Character: Given a string, return a string with each character\n",
    "###     repeated (ex. in: \"abc\", out: \"aabbcc\")\n",
    "\n",
    "def repeat_each_character(string)->str:\n",
    "    \"\"\" Given an input string, return a string with repeat of each character\n",
    "\n",
    "    Args:\n",
    "        string (str): string to repeat characters for\n",
    "\n",
    "    output:\n",
    "        doubledString (str): string with each character doubled\n",
    "    \"\"\"\n",
    "\n",
    "    pass\n",
    "\n",
    "# 10 - Repeat each character - provided example inputs that provide output\n",
    "if repeat_each_character(\"now\"):\n",
    "    print(\"test repeat_each_character():\")\n",
    "    print(repeat_each_character(\"now\"))\n",
    "    print(repeat_each_character(\"123a!\"))"
   ]
  },
  {
   "cell_type": "code",
   "execution_count": null,
   "metadata": {},
   "outputs": [],
   "source": [
    "# Unit Tests - repeat_each_character()\n",
    "try:\n",
    "    if repeat_each_character(\"now\"):\n",
    "\n",
    "        tester.test_repeat_each_character()\n",
    "    else:\n",
    "        print(\"Error: repeat_each_character() returns 'None'\")\n",
    "except Exception as e:\n",
    "    print(\"Error: repeat_each_character() is undefined or some other error occured.\")\n",
    "    if e:\n",
    "        print(\"Error message:\", e)"
   ]
  },
  {
   "cell_type": "markdown",
   "metadata": {},
   "source": [
    "#### Check if Palindrome"
   ]
  },
  {
   "cell_type": "code",
   "execution_count": null,
   "metadata": {},
   "outputs": [],
   "source": [
    "### 11. Check If Palindrome: Given a string, return True if the string is a \n",
    "###     palindrome (the same forwards and backwards, like \"racecar\" or \"level\"\n",
    "\n",
    "def check_if_palindrome(string)->bool:\n",
    "    \"\"\" Given an input string, return True if the string is palindrome or false\n",
    "        if not. Whitespace and punctuation should be removed before assessing\n",
    "        if a string is palindrome. \n",
    "\n",
    "    Args:\n",
    "        string (str): string to repeat characters for\n",
    "\n",
    "    output:\n",
    "        is_palindrome (bool): True if the string is palindrome\n",
    "    \"\"\"\n",
    "    pass\n",
    "\n",
    "# 11 - Check if Palindrome - provided example inputs that provide output\n",
    "if check_if_palindrome(\"racecar\"):\n",
    "    print(\"test just_the_numbers():\")\n",
    "    print(\"'racecar' is palindrome: {}\".format(check_if_palindrome(\"racecar\")))\n",
    "    print(\"'car' is palindrome: {}\".format(check_if_palindrome(\"car\")))\n",
    "    print(\"'Madam' is palindrome: {}\".format(check_if_palindrome(\"Madam\")))\n",
    "    print(\"'nurses run' is palindrome: {}\".format(check_if_palindrome(\"nurses run\")))"
   ]
  },
  {
   "cell_type": "code",
   "execution_count": null,
   "metadata": {},
   "outputs": [],
   "source": [
    "# Unit Tests - check_if_palindrome()\n",
    "try:\n",
    "    if check_if_palindrome(\"racecar\"):\n",
    "\n",
    "        tester.test_check_if_palindrome()\n",
    "    else:\n",
    "        print(\"Error: check_if_palindrome() returns 'None'\")\n",
    "except Exception as e:\n",
    "    print(\"Error: check_if_palindrome() is undefined or some other error occured.\")\n",
    "    if e:\n",
    "        print(\"Error message:\", e)"
   ]
  },
  {
   "cell_type": "markdown",
   "metadata": {},
   "source": [
    "#### Withdrawal"
   ]
  },
  {
   "cell_type": "code",
   "execution_count": null,
   "metadata": {},
   "outputs": [],
   "source": [
    "### 12. atm: Given a withdrawl amount and a balance, print a message and return the\n",
    "###     new amount, or print a message for no remaining balance and insufficient funds cases\n",
    "\n",
    "def withdrawal(balance, withdrawal_amount)->str:\n",
    "    \"\"\" Given an input balance and withdrawl amount, check if there is enough money in\n",
    "        the account. If not, return the string \"Insufficient funds\". If the withdrawl\n",
    "        amount is equal to the balance, return the string \"This is all of your money\".\n",
    "        Otherwise, calculate and return the new balance as a string (two decimal points)\n",
    "\n",
    "    Args:\n",
    "        balance (int/float): initial amount in the bank account\n",
    "        withdrawl_amount (int/float): amount to withdraw\n",
    "    output:\n",
    "        new_balance (str): The remaining balance, the no remaining balance message, or\n",
    "        an insufficient funds message. \n",
    "    \"\"\"\n",
    "    \n",
    "    pass\n",
    "\n",
    "# 12 - withdrawal - provided example inputs that provide output\n",
    "balance = 100.30\n",
    "withdrawal_amount = 30.00\n",
    "if withdrawal(balance, withdrawal_amount):\n",
    "    print(\"Test withdrawal function:\")\n",
    "    print(f\"input: balance={balance}, withdrawal_amount={withdrawal_amount}\")\n",
    "    print(f\"output: {withdrawal(balance, withdrawal_amount)}\")\n",
    "    print()"
   ]
  },
  {
   "cell_type": "code",
   "execution_count": null,
   "metadata": {},
   "outputs": [],
   "source": [
    "# Unit Tests - withdrawal()\n",
    "try:\n",
    "    if withdrawal(100.3, 30.0):\n",
    "\n",
    "        tester.test_withdrawal()\n",
    "    else:\n",
    "        print(\"Error: withdrawal() returns 'None'\")\n",
    "except Exception as e:\n",
    "    print(\"Error: withdrawal() is undefined or some other error occured.\")\n",
    "    if e:\n",
    "        print(\"Error message:\", e)"
   ]
  },
  {
   "cell_type": "markdown",
   "metadata": {},
   "source": [
    "#### Product is Even"
   ]
  },
  {
   "cell_type": "code",
   "execution_count": null,
   "metadata": {},
   "outputs": [],
   "source": [
    "### 13. product_is_even: returns True if the product of two input integers is even\n",
    "\n",
    "def product_is_even(int1: int, int2: int) -> bool:\n",
    "    \"\"\" Given two input integers, return True if their product is even\n",
    "\n",
    "    Args:\n",
    "        int1 (int): the first integer\n",
    "        int2 (int): the second integer\n",
    "    output:\n",
    "        is_even (bool): True if int1 * int2 is even\n",
    "    \"\"\"\n",
    "    \n",
    "    pass\n",
    "\n",
    "# 13 - product_is_even - provided example inputs that provide output\n",
    "int1 = 4\n",
    "int2 = 5\n",
    "if product_is_even(int1, int2):\n",
    "    print(\"product_is_even function:\")\n",
    "    print(f\"input: int1={int1}, int2={int2}\")\n",
    "    print(f\"output: {product_is_even(int1, int2)}\")"
   ]
  },
  {
   "cell_type": "code",
   "execution_count": null,
   "metadata": {},
   "outputs": [],
   "source": [
    "# Unit Tests - product_is_even()\n",
    "try:\n",
    "    if product_is_even(4, 5):\n",
    "\n",
    "        tester.test_product_is_even()\n",
    "    else:\n",
    "        print(\"Error: product_is_even() returns 'None'\")\n",
    "except Exception as e:\n",
    "    print(\"Error: product_is_even() is undefined or some other error occured.\")\n",
    "    if e:\n",
    "        print(\"Error message:\", e)"
   ]
  },
  {
   "cell_type": "markdown",
   "metadata": {},
   "source": [
    "#### Reverse Squared"
   ]
  },
  {
   "cell_type": "code",
   "execution_count": null,
   "metadata": {},
   "outputs": [],
   "source": [
    "### 14. Create a function that takes a list of strings as an argument. Reverse the \n",
    "###     list of strings, as well as each string in the list. You are not allowed to\n",
    "###     use list.reverse(). Return the resulting list.\n",
    "\n",
    "def reverse_squared(string_list: list) -> list:\n",
    "    \"\"\" Given a list of strings, return a reversed list where all of the strings are\n",
    "        also reversed.\n",
    "\n",
    "    Example: \n",
    "        string_list = [\"apple\", \"orange\"]\n",
    "        reverse_list = [\"egnaro\", \"elppa\"]\n",
    "\n",
    "    Args:\n",
    "        string_list (list): a list of strings\n",
    "    output:\n",
    "        reverse_squared (list): a list where all input strings are reversed and the\n",
    "        original list of items is also reversed\n",
    "    \"\"\"\n",
    "\n",
    "    pass\n",
    "\n",
    "# 14 - reverse_squared - provided example inputs that provide output\n",
    "example_list = [\"hello\", \"world\"]\n",
    "if reverse_squared(example_list):\n",
    "    print(\"reverse_squared function:\")\n",
    "    print(f\"input: string_list={example_list}\")\n",
    "    print(f\"output: {reverse_squared(example_list)}\")"
   ]
  },
  {
   "cell_type": "code",
   "execution_count": null,
   "metadata": {},
   "outputs": [],
   "source": [
    "# Unit Tests - reverse_squared()\n",
    "try:\n",
    "    if reverse_squared([\"even\", 'odd']):\n",
    "        tester.test_reverse_squared()\n",
    "\n",
    "    else:\n",
    "        print(\"Error: reverse_squared() returns 'None'\")\n",
    "except Exception as e:\n",
    "    print(\"Error: reverse_squared() is undefined or some other error occured.\")\n",
    "    if e:\n",
    "        print(\"Error message:\", e)"
   ]
  },
  {
   "cell_type": "markdown",
   "metadata": {},
   "source": [
    "#### Multiplication Table"
   ]
  },
  {
   "cell_type": "code",
   "execution_count": null,
   "metadata": {},
   "outputs": [],
   "source": [
    "# 15. mult_table: Using nested for loops, create a multiplication table that is x (rows)\n",
    "#     by y (cols). The times table should start with 1. You should return a 2 dimensional\n",
    "#     list\n",
    "\n",
    "def mult_table(x: int, y: int) -> list[list]:\n",
    "    \"\"\" Given two input integers, return a multiplication table from 1..x (rows)\n",
    "\n",
    "    Args:\n",
    "        x (int): number of rows (>1 )\n",
    "        y (int): number of columns (>= 1)\n",
    "    output:\n",
    "        mult_table (list[list]): A list of lists containing the multiplication table\n",
    "    \"\"\"\n",
    "    pass\n",
    "\n",
    "\n",
    "# 15 - mult_table - provided example inputs that provide output\n",
    "x, y = 10, 7\n",
    "if mult_table(x, y):\n",
    "    print(\"mult_table() function:\")\n",
    "    print(f\"input: x={x}, y={y}\")\n",
    "    print(\"output:\")\n",
    "    for row in mult_tables(x, y):\n",
    "        print(row)\n",
    "    print()"
   ]
  },
  {
   "cell_type": "code",
   "execution_count": null,
   "metadata": {},
   "outputs": [],
   "source": [
    "# Unit Tests - mult_table()\n",
    "try:\n",
    "    if mult_table(10, 7):\n",
    "        tester.test_mult_tables()\n",
    "\n",
    "    else:\n",
    "        print(\"Error: mult_table() returns 'None'\")\n",
    "except Exception as e:\n",
    "    print(\"Error: mult_table() is undefined or some other error occured.\")\n",
    "    if e:\n",
    "        print(\"Error message:\", e)"
   ]
  },
  {
   "cell_type": "markdown",
   "metadata": {},
   "source": [
    "#### Test All\n",
    "\n",
    "Note: print statements are not supressed. "
   ]
  },
  {
   "cell_type": "code",
   "execution_count": null,
   "metadata": {},
   "outputs": [],
   "source": [
    "if __name__ == \"__main__\":\n",
    "    unittest.main(argv=[''], verbosity=2, exit=False)"
   ]
  }
 ],
 "metadata": {
  "kernelspec": {
   "display_name": "Python 3 (ipykernel)",
   "language": "python",
   "name": "python3"
  },
  "language_info": {
   "codemirror_mode": {
    "name": "ipython",
    "version": 3
   },
   "file_extension": ".py",
   "mimetype": "text/x-python",
   "name": "python",
   "nbconvert_exporter": "python",
   "pygments_lexer": "ipython3",
   "version": "3.11.6"
  }
 },
 "nbformat": 4,
 "nbformat_minor": 4
}
